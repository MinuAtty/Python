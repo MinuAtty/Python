{
 "cells": [
  {
   "cell_type": "code",
   "execution_count": 1,
   "id": "d47d95f1",
   "metadata": {},
   "outputs": [
    {
     "name": "stdout",
     "output_type": "stream",
     "text": [
      "Hello World!\n"
     ]
    }
   ],
   "source": [
    "print(\"Hello World!\")"
   ]
  },
  {
   "cell_type": "code",
   "execution_count": 2,
   "id": "313baaa5",
   "metadata": {},
   "outputs": [
    {
     "name": "stdout",
     "output_type": "stream",
     "text": [
      "Test\n"
     ]
    }
   ],
   "source": [
    "# First program\n",
    "print(\"Test\")"
   ]
  },
  {
   "cell_type": "code",
   "execution_count": 3,
   "id": "e76c43af",
   "metadata": {},
   "outputs": [
    {
     "data": {
      "text/plain": [
       "'\\nThis is a comment\\nwritten in\\nmore than just one line\\n'"
      ]
     },
     "execution_count": 3,
     "metadata": {},
     "output_type": "execute_result"
    }
   ],
   "source": [
    "\"\"\"\n",
    "This is a comment\n",
    "written in\n",
    "more than just one line\n",
    "\"\"\""
   ]
  },
  {
   "cell_type": "markdown",
   "id": "60c7f36d",
   "metadata": {},
   "source": [
    "## Indentation"
   ]
  },
  {
   "cell_type": "code",
   "execution_count": 4,
   "id": "9b93d5e6",
   "metadata": {},
   "outputs": [
    {
     "name": "stdout",
     "output_type": "stream",
     "text": [
      "Value is 10\n"
     ]
    },
    {
     "ename": "NameError",
     "evalue": "name 'NSBM' is not defined",
     "output_type": "error",
     "traceback": [
      "\u001b[1;31m---------------------------------------------------------------------------\u001b[0m",
      "\u001b[1;31mNameError\u001b[0m                                 Traceback (most recent call last)",
      "Cell \u001b[1;32mIn[4], line 4\u001b[0m\n\u001b[0;32m      2\u001b[0m a\u001b[38;5;241m=\u001b[39m\u001b[38;5;241m10\u001b[39m\n\u001b[0;32m      3\u001b[0m \u001b[38;5;28mprint\u001b[39m(\u001b[38;5;124m\"\u001b[39m\u001b[38;5;124mValue is\u001b[39m\u001b[38;5;124m\"\u001b[39m,a)\n\u001b[1;32m----> 4\u001b[0m a\u001b[38;5;241m=\u001b[39mNSBM\n\u001b[0;32m      5\u001b[0m \u001b[38;5;28mprint\u001b[39m(\u001b[38;5;124m\"\u001b[39m\u001b[38;5;124mString is\u001b[39m\u001b[38;5;124m\"\u001b[39m,a)\n",
      "\u001b[1;31mNameError\u001b[0m: name 'NSBM' is not defined"
     ]
    }
   ],
   "source": [
    "# Name Error\n",
    "a=10\n",
    "print(\"Value is\",a)\n",
    "a=NSBM\n",
    "print(\"String is\",a)"
   ]
  },
  {
   "cell_type": "code",
   "execution_count": 5,
   "id": "c65fa34c",
   "metadata": {},
   "outputs": [
    {
     "name": "stdout",
     "output_type": "stream",
     "text": [
      "Value is  10\n",
      "String is  NSBM\n"
     ]
    }
   ],
   "source": [
    "a=10\n",
    "print(\"Value is \",a)\n",
    "a='NSBM'\n",
    "print(\"String is \",a)"
   ]
  },
  {
   "cell_type": "code",
   "execution_count": 6,
   "id": "bb969e23",
   "metadata": {},
   "outputs": [
    {
     "name": "stdout",
     "output_type": "stream",
     "text": [
      "a\n",
      "b\n",
      "c\n"
     ]
    }
   ],
   "source": [
    "a, b, c=\"apple\", \"orange\", \"banana\"\n",
    "print(\"a\")\n",
    "print(\"b\")\n",
    "print(\"c\")"
   ]
  },
  {
   "cell_type": "code",
   "execution_count": 7,
   "id": "f044bd35",
   "metadata": {},
   "outputs": [
    {
     "name": "stdout",
     "output_type": "stream",
     "text": [
      "apple\n",
      "orange\n",
      "banana\n"
     ]
    }
   ],
   "source": [
    "a, b, c=\"apple\", \"orange\", \"banana\"\n",
    "print(a)\n",
    "print(b)\n",
    "print(c)"
   ]
  },
  {
   "cell_type": "code",
   "execution_count": 8,
   "id": "6dffa4c3",
   "metadata": {},
   "outputs": [
    {
     "name": "stdout",
     "output_type": "stream",
     "text": [
      "apple orange banana\n"
     ]
    }
   ],
   "source": [
    "a, b, c=\"apple\", \"orange\", \"banana\"\n",
    "print(a, b, c)"
   ]
  },
  {
   "cell_type": "markdown",
   "id": "fe53df8d",
   "metadata": {},
   "source": [
    "## Naming a variable"
   ]
  },
  {
   "cell_type": "code",
   "execution_count": 9,
   "id": "ab024166",
   "metadata": {},
   "outputs": [
    {
     "ename": "SyntaxError",
     "evalue": "invalid decimal literal (2554017485.py, line 2)",
     "output_type": "error",
     "traceback": [
      "\u001b[1;36m  Cell \u001b[1;32mIn[9], line 2\u001b[1;36m\u001b[0m\n\u001b[1;33m    1a=10\u001b[0m\n\u001b[1;37m    ^\u001b[0m\n\u001b[1;31mSyntaxError\u001b[0m\u001b[1;31m:\u001b[0m invalid decimal literal\n"
     ]
    }
   ],
   "source": [
    "# Invalid Syntax\n",
    "1a=10\n",
    "print(1a) # Cannot start with a number"
   ]
  },
  {
   "cell_type": "code",
   "execution_count": 10,
   "id": "6eb1533c",
   "metadata": {},
   "outputs": [
    {
     "name": "stdout",
     "output_type": "stream",
     "text": [
      "5\n"
     ]
    }
   ],
   "source": [
    "a=3\n",
    "b=2\n",
    "print(a+b)"
   ]
  },
  {
   "cell_type": "markdown",
   "id": "7ce0cc8e",
   "metadata": {},
   "source": [
    "## Taking an input from the User"
   ]
  },
  {
   "cell_type": "code",
   "execution_count": 11,
   "id": "7b48d8f0",
   "metadata": {},
   "outputs": [
    {
     "name": "stdout",
     "output_type": "stream",
     "text": [
      "Enter First Number: 4\n",
      "Enter Second Number: 6\n",
      "Total is:  10\n"
     ]
    }
   ],
   "source": [
    "a=int(input(\"Enter First Number: \"))\n",
    "b=int(input(\"Enter Second Number: \"))\n",
    "c = a + b\n",
    "print(\"Total is: \",c)"
   ]
  },
  {
   "cell_type": "code",
   "execution_count": 12,
   "id": "488919cc",
   "metadata": {},
   "outputs": [
    {
     "name": "stdout",
     "output_type": "stream",
     "text": [
      "Enter your name Minusha\n",
      "Enter your age 23\n",
      "Hello <a> and you are <b> years old\n"
     ]
    }
   ],
   "source": [
    "a=input(\"Enter your name \")\n",
    "b=input(\"Enter your age \")\n",
    "print(\"Hello <a> and you are <b> years old\")"
   ]
  },
  {
   "cell_type": "code",
   "execution_count": 13,
   "id": "817374ce",
   "metadata": {},
   "outputs": [
    {
     "ename": "SyntaxError",
     "evalue": "invalid syntax (3895217515.py, line 4)",
     "output_type": "error",
     "traceback": [
      "\u001b[1;36m  Cell \u001b[1;32mIn[13], line 4\u001b[1;36m\u001b[0m\n\u001b[1;33m    print(\"Hello\" ,a \"and you are\" ,b \"years old\")\u001b[0m\n\u001b[1;37m                     ^\u001b[0m\n\u001b[1;31mSyntaxError\u001b[0m\u001b[1;31m:\u001b[0m invalid syntax\n"
     ]
    }
   ],
   "source": [
    "# Invalid Syntax\n",
    "a=input(\"Enter your name \")\n",
    "b=input(\"Enter your age \")\n",
    "print(\"Hello\" ,a \"and you are\" ,b \"years old\")"
   ]
  },
  {
   "cell_type": "code",
   "execution_count": 14,
   "id": "9a9b9476",
   "metadata": {},
   "outputs": [
    {
     "name": "stdout",
     "output_type": "stream",
     "text": [
      "Enter your name Minusha\n",
      "Enter your age 23\n",
      "Hello 'a' and you are 'b' years old Minusha 23\n"
     ]
    }
   ],
   "source": [
    "a=input(\"Enter your name \")\n",
    "b=input(\"Enter your age \")\n",
    "print(\"Hello 'a' and you are 'b' years old\",a,b)"
   ]
  },
  {
   "cell_type": "code",
   "execution_count": 15,
   "id": "00c837a7",
   "metadata": {},
   "outputs": [
    {
     "name": "stdout",
     "output_type": "stream",
     "text": [
      "Enter your name Minusha\n",
      "Enter your age 23\n",
      "Hello Minusha and you are 2001 years old\n"
     ]
    }
   ],
   "source": [
    "name=input(\"Enter your name \")\n",
    "age=int(input(\"Enter your age \"))\n",
    "years=2024-age\n",
    "print(\"Hello\",name, \"and you are\",years, \"years old\")"
   ]
  },
  {
   "cell_type": "code",
   "execution_count": 16,
   "id": "49766f23",
   "metadata": {},
   "outputs": [
    {
     "name": "stdout",
     "output_type": "stream",
     "text": [
      "Enter your name Minusha\n",
      "Enter your birthyear 2001\n",
      "Hello Minusha and you are 23 years old\n"
     ]
    }
   ],
   "source": [
    "name=input(\"Enter your name \")\n",
    "age=int(input(\"Enter your birthyear \"))\n",
    "years=2024-age\n",
    "print(\"Hello\",name, \"and you are\",years, \"years old\")"
   ]
  },
  {
   "cell_type": "markdown",
   "id": "701a8f8a",
   "metadata": {},
   "source": [
    "## Applications of single quotes & double quotes"
   ]
  },
  {
   "cell_type": "code",
   "execution_count": 17,
   "id": "6acead8a",
   "metadata": {},
   "outputs": [
    {
     "name": "stdout",
     "output_type": "stream",
     "text": [
      "NSBM Green University\n",
      "NSBM Green University\n"
     ]
    }
   ],
   "source": [
    "string_a = \"NSBM Green University\"\n",
    "string_b = 'NSBM Green University'\n",
    "\n",
    "print(string_a)\n",
    "print(string_a)"
   ]
  },
  {
   "cell_type": "code",
   "execution_count": 18,
   "id": "9ed8efaa",
   "metadata": {},
   "outputs": [
    {
     "name": "stdout",
     "output_type": "stream",
     "text": [
      "'NSBM' Green University\n",
      "'NSBM' Green University\n"
     ]
    }
   ],
   "source": [
    "string_a = \"'NSBM' Green University\"\n",
    "string_b = '\"NSBM\" Green University'\n",
    "\n",
    "print(string_a)\n",
    "print(string_a)"
   ]
  },
  {
   "cell_type": "code",
   "execution_count": 19,
   "id": "7acf3547",
   "metadata": {},
   "outputs": [
    {
     "name": "stdout",
     "output_type": "stream",
     "text": [
      "\"NSBM\" Green University\n",
      "'NSBM' Green University\n"
     ]
    }
   ],
   "source": [
    "a=\"\\\"NSBM\\\" Green University\"\n",
    "b='\\'NSBM\\' Green University'\n",
    "print(a)\n",
    "print(b)"
   ]
  },
  {
   "cell_type": "code",
   "execution_count": 20,
   "id": "502f94c4",
   "metadata": {},
   "outputs": [
    {
     "ename": "SyntaxError",
     "evalue": "invalid syntax (726094810.py, line 2)",
     "output_type": "error",
     "traceback": [
      "\u001b[1;36m  Cell \u001b[1;32mIn[20], line 2\u001b[1;36m\u001b[0m\n\u001b[1;33m    string_a = \"\"NSBM\" Green University\"\u001b[0m\n\u001b[1;37m                 ^\u001b[0m\n\u001b[1;31mSyntaxError\u001b[0m\u001b[1;31m:\u001b[0m invalid syntax\n"
     ]
    }
   ],
   "source": [
    "# Invalid Syntax\n",
    "string_a = \"\"NSBM\" Green University\"\n",
    "string_b = ''NSBM' Green University'\n",
    "\n",
    "print(string_a)\n",
    "print(string_a)"
   ]
  },
  {
   "cell_type": "markdown",
   "id": "0dad26a2",
   "metadata": {},
   "source": [
    "## Changing Character Cases"
   ]
  },
  {
   "cell_type": "code",
   "execution_count": 21,
   "id": "74dc4300",
   "metadata": {},
   "outputs": [
    {
     "name": "stdout",
     "output_type": "stream",
     "text": [
      "Programming in python\n",
      "Programming In Python\n",
      "PROGRAMMING IN PYTHON\n",
      "programming in python\n"
     ]
    }
   ],
   "source": [
    "course = \"Programming in Python\"\n",
    "print(course.capitalize())\n",
    "print(course.title())\n",
    "print(course.upper())\n",
    "print(course.lower())"
   ]
  },
  {
   "cell_type": "code",
   "execution_count": 22,
   "id": "3746dbfa",
   "metadata": {},
   "outputs": [
    {
     "name": "stdout",
     "output_type": "stream",
     "text": [
      "Python\n",
      "Python\n",
      "PYTHON\n",
      "python\n"
     ]
    }
   ],
   "source": [
    "course = \"python\"\n",
    "print(course.capitalize())\n",
    "print(course.title())\n",
    "print(course.upper())\n",
    "print(course.lower())"
   ]
  },
  {
   "cell_type": "markdown",
   "id": "edf17d4c",
   "metadata": {},
   "source": [
    "##  Arithmetic Operators"
   ]
  },
  {
   "cell_type": "code",
   "execution_count": 23,
   "id": "6a2b84f3",
   "metadata": {},
   "outputs": [
    {
     "name": "stdout",
     "output_type": "stream",
     "text": [
      "100\n"
     ]
    }
   ],
   "source": [
    "# Exponentiation\n",
    "a=10\n",
    "b=2\n",
    "print(a**b)"
   ]
  },
  {
   "cell_type": "code",
   "execution_count": 24,
   "id": "cabc1596",
   "metadata": {},
   "outputs": [
    {
     "name": "stdout",
     "output_type": "stream",
     "text": [
      "2\n"
     ]
    }
   ],
   "source": [
    "# Floor Division\n",
    "a=9\n",
    "b=4\n",
    "print(a//b)"
   ]
  },
  {
   "cell_type": "code",
   "execution_count": 25,
   "id": "5eed746c",
   "metadata": {},
   "outputs": [
    {
     "name": "stdout",
     "output_type": "stream",
     "text": [
      "0\n"
     ]
    }
   ],
   "source": [
    "# Modulus\n",
    "a=10\n",
    "b=20\n",
    "print(b%a)"
   ]
  },
  {
   "cell_type": "code",
   "execution_count": 26,
   "id": "ce8ce713",
   "metadata": {},
   "outputs": [
    {
     "name": "stdout",
     "output_type": "stream",
     "text": [
      "36\n",
      "3\n",
      "0\n"
     ]
    }
   ],
   "source": [
    "x=6\n",
    "y=2\n",
    "print(x**y)\n",
    "print(x//y)\n",
    "print(x%y)"
   ]
  },
  {
   "cell_type": "markdown",
   "id": "51782eca",
   "metadata": {},
   "source": [
    "##  Comparison Operators"
   ]
  },
  {
   "cell_type": "code",
   "execution_count": 27,
   "id": "c5b245d1",
   "metadata": {},
   "outputs": [
    {
     "data": {
      "text/plain": [
       "False"
      ]
     },
     "execution_count": 27,
     "metadata": {},
     "output_type": "execute_result"
    }
   ],
   "source": [
    "# Equal\n",
    "x=2\n",
    "y=3\n",
    "x==y "
   ]
  },
  {
   "cell_type": "code",
   "execution_count": 28,
   "id": "021e805f",
   "metadata": {},
   "outputs": [
    {
     "data": {
      "text/plain": [
       "True"
      ]
     },
     "execution_count": 28,
     "metadata": {},
     "output_type": "execute_result"
    }
   ],
   "source": [
    "# Not Equal\n",
    "x=2\n",
    "y=3\n",
    "x!=y "
   ]
  },
  {
   "cell_type": "code",
   "execution_count": 29,
   "id": "0036ffea",
   "metadata": {},
   "outputs": [
    {
     "data": {
      "text/plain": [
       "True"
      ]
     },
     "execution_count": 29,
     "metadata": {},
     "output_type": "execute_result"
    }
   ],
   "source": [
    "# Greater than\n",
    "x=20\n",
    "y=30\n",
    "y>x"
   ]
  },
  {
   "cell_type": "code",
   "execution_count": 30,
   "id": "88e77b3a",
   "metadata": {},
   "outputs": [
    {
     "data": {
      "text/plain": [
       "True"
      ]
     },
     "execution_count": 30,
     "metadata": {},
     "output_type": "execute_result"
    }
   ],
   "source": [
    "# Less than\n",
    "x=20\n",
    "y=30\n",
    "x<y"
   ]
  },
  {
   "cell_type": "markdown",
   "id": "b928ad93",
   "metadata": {},
   "source": [
    "##  Assignment Operators"
   ]
  },
  {
   "cell_type": "code",
   "execution_count": 31,
   "id": "4dd15be1",
   "metadata": {},
   "outputs": [
    {
     "name": "stdout",
     "output_type": "stream",
     "text": [
      "8\n"
     ]
    }
   ],
   "source": [
    "x=5\n",
    "x+=3 # (x = x + 3)\n",
    "print(x)"
   ]
  },
  {
   "cell_type": "code",
   "execution_count": 32,
   "id": "4efa479e",
   "metadata": {},
   "outputs": [
    {
     "name": "stdout",
     "output_type": "stream",
     "text": [
      "2\n"
     ]
    }
   ],
   "source": [
    "x=5\n",
    "x-=3 # (x = x - 3)\n",
    "print(x)"
   ]
  },
  {
   "cell_type": "code",
   "execution_count": 33,
   "id": "3209e395",
   "metadata": {},
   "outputs": [
    {
     "name": "stdout",
     "output_type": "stream",
     "text": [
      "15\n"
     ]
    }
   ],
   "source": [
    "x=5\n",
    "x*=3 # (x = x * 3)\n",
    "print(x)"
   ]
  },
  {
   "cell_type": "code",
   "execution_count": 34,
   "id": "7ed99f92",
   "metadata": {},
   "outputs": [
    {
     "name": "stdout",
     "output_type": "stream",
     "text": [
      "1.6666666666666667\n"
     ]
    }
   ],
   "source": [
    "x=5\n",
    "x/=3 # (x = x / 3)\n",
    "print(x)"
   ]
  },
  {
   "cell_type": "code",
   "execution_count": 35,
   "id": "85089646",
   "metadata": {},
   "outputs": [
    {
     "name": "stdout",
     "output_type": "stream",
     "text": [
      "2\n"
     ]
    }
   ],
   "source": [
    "x=5\n",
    "x%=3 # (x = x % 3)\n",
    "print(x)"
   ]
  },
  {
   "cell_type": "code",
   "execution_count": 36,
   "id": "0bd82d1d",
   "metadata": {},
   "outputs": [
    {
     "name": "stdout",
     "output_type": "stream",
     "text": [
      "1\n"
     ]
    }
   ],
   "source": [
    "x=5\n",
    "x//=3 # (x = x // 3)\n",
    "print(x)"
   ]
  },
  {
   "cell_type": "markdown",
   "id": "91ae54c4",
   "metadata": {},
   "source": [
    "## Logical Operators"
   ]
  },
  {
   "cell_type": "code",
   "execution_count": 37,
   "id": "7d50dcbe",
   "metadata": {},
   "outputs": [
    {
     "name": "stdout",
     "output_type": "stream",
     "text": [
      "False\n"
     ]
    }
   ],
   "source": [
    "x=5\n",
    "print(not(x>3 and x<10))"
   ]
  },
  {
   "cell_type": "code",
   "execution_count": 38,
   "id": "1302a4b2",
   "metadata": {},
   "outputs": [
    {
     "name": "stdout",
     "output_type": "stream",
     "text": [
      "True\n",
      "True\n"
     ]
    }
   ],
   "source": [
    "x=8\n",
    "print(x>3 and x<10)\n",
    "print(x>9 or x<10)"
   ]
  },
  {
   "cell_type": "markdown",
   "id": "fb115c98",
   "metadata": {},
   "source": [
    "## Bitwise Operators"
   ]
  },
  {
   "cell_type": "code",
   "execution_count": 39,
   "id": "dec97409",
   "metadata": {},
   "outputs": [
    {
     "name": "stdout",
     "output_type": "stream",
     "text": [
      "0\n"
     ]
    }
   ],
   "source": [
    "# x & y - Returns 1 if both the bits are 1 else 0\n",
    "x = 10 \n",
    "y = 4 \n",
    "print(x & y)"
   ]
  },
  {
   "cell_type": "code",
   "execution_count": 40,
   "id": "f69685a7",
   "metadata": {},
   "outputs": [
    {
     "name": "stdout",
     "output_type": "stream",
     "text": [
      "2\n"
     ]
    }
   ],
   "source": [
    "x=10\n",
    "y=6\n",
    "print(x & y)"
   ]
  },
  {
   "cell_type": "code",
   "execution_count": 41,
   "id": "078dda0d",
   "metadata": {},
   "outputs": [
    {
     "name": "stdout",
     "output_type": "stream",
     "text": [
      "14\n"
     ]
    }
   ],
   "source": [
    "# x | y - Returns 1 if either of the bit is 1 else 0\n",
    "x = 10 \n",
    "y = 4 \n",
    "print(x | y)"
   ]
  },
  {
   "cell_type": "code",
   "execution_count": 42,
   "id": "3ee6fd45",
   "metadata": {},
   "outputs": [
    {
     "name": "stdout",
     "output_type": "stream",
     "text": [
      "1\n"
     ]
    }
   ],
   "source": [
    "# x ^ y - Returns 1 if one of the bit is 1 and other is 0 else returns 0\n",
    "x = 5 \n",
    "y = 4 \n",
    "print(x ^ y)"
   ]
  },
  {
   "cell_type": "code",
   "execution_count": 43,
   "id": "f858e984",
   "metadata": {},
   "outputs": [
    {
     "name": "stdout",
     "output_type": "stream",
     "text": [
      "-11\n"
     ]
    }
   ],
   "source": [
    "x =10\n",
    "print(~x)"
   ]
  },
  {
   "cell_type": "code",
   "execution_count": 44,
   "id": "e92c681f",
   "metadata": {},
   "outputs": [
    {
     "name": "stdout",
     "output_type": "stream",
     "text": [
      "1\n",
      "-3\n",
      "10\n",
      "-20\n"
     ]
    }
   ],
   "source": [
    "a = 5\n",
    "b = -10\n",
    "\n",
    "# Bitwise Right Shift (x >> y) – similar effect as dividing a number with some power of 2.\n",
    "print(a >> 2)\n",
    "print(b >> 2)\n",
    "\n",
    "# Bitwise Left Shift (x << y) – similar effect as multiplying a number with some power of 2\n",
    "print(a << 1)\n",
    "print(b << 1)"
   ]
  },
  {
   "cell_type": "markdown",
   "id": "735473d5",
   "metadata": {},
   "source": [
    "## Control Structure"
   ]
  },
  {
   "cell_type": "markdown",
   "id": "baf3cb2a",
   "metadata": {},
   "source": [
    "### if Statement"
   ]
  },
  {
   "cell_type": "code",
   "execution_count": 45,
   "id": "c215a876",
   "metadata": {},
   "outputs": [
    {
     "name": "stdout",
     "output_type": "stream",
     "text": [
      "Enter First Number: 4\n",
      "Enter Second Number: 6\n",
      "The maximum is:  6\n"
     ]
    }
   ],
   "source": [
    "num1=int(input(\"Enter First Number: \"))\n",
    "num2=int(input(\"Enter Second Number: \"))\n",
    "if(num1>num2):\n",
    "    max=num1\n",
    "else:\n",
    "    max=num2\n",
    "print(\"The maximum is: \",max)"
   ]
  },
  {
   "cell_type": "code",
   "execution_count": 46,
   "id": "c7edaa2f",
   "metadata": {},
   "outputs": [
    {
     "name": "stdout",
     "output_type": "stream",
     "text": [
      "True\n",
      "False\n"
     ]
    }
   ],
   "source": [
    "x=10\n",
    "if(x>=5):\n",
    "   print(\"True\")\n",
    "print(\"False\")"
   ]
  },
  {
   "cell_type": "code",
   "execution_count": 47,
   "id": "8f06bb12",
   "metadata": {},
   "outputs": [
    {
     "name": "stdout",
     "output_type": "stream",
     "text": [
      "False\n"
     ]
    }
   ],
   "source": [
    "x=10\n",
    "if(x>=15):\n",
    "   print(\"True\")\n",
    "print(\"False\")"
   ]
  },
  {
   "cell_type": "code",
   "execution_count": 48,
   "id": "bcd2b6a1",
   "metadata": {},
   "outputs": [
    {
     "name": "stdout",
     "output_type": "stream",
     "text": [
      "Enter the mark: 67\n",
      "B\n",
      "C\n",
      "S\n"
     ]
    }
   ],
   "source": [
    "num=int(input(\"Enter the mark: \"))\n",
    "if(num>75):\n",
    "    print(\"A\")\n",
    "if(num>=65):\n",
    "    print(\"B\")\n",
    "if(num>=50):\n",
    "    print(\"C\")\n",
    "if(num>=35):\n",
    "    print(\"S\")\n",
    "else:\n",
    "    print(\"F\")"
   ]
  },
  {
   "cell_type": "code",
   "execution_count": 49,
   "id": "dd7466cd",
   "metadata": {},
   "outputs": [
    {
     "name": "stdout",
     "output_type": "stream",
     "text": [
      "Enter the mark: 82\n",
      "A\n"
     ]
    }
   ],
   "source": [
    "num=int(input(\"Enter the mark: \"))\n",
    "if(num>75):\n",
    "    print(\"A\")\n",
    "elif(num>=65):\n",
    "    print(\"B\")\n",
    "elif(num>=50):\n",
    "    print(\"C\")\n",
    "elif(num>=35):\n",
    "    print(\"S\")\n",
    "else:\n",
    "    print(\"F\")"
   ]
  },
  {
   "cell_type": "code",
   "execution_count": 50,
   "id": "135ca06a",
   "metadata": {},
   "outputs": [
    {
     "name": "stdout",
     "output_type": "stream",
     "text": [
      "Enter the mark: 77\n",
      "Grade is A\n"
     ]
    }
   ],
   "source": [
    "mark=int(input(\"Enter the mark: \"))\n",
    "if(mark>75):\n",
    "    grade ='A'\n",
    "elif(mark>=65):\n",
    "    grade ='B'\n",
    "elif(mark>=50):\n",
    "    grade ='C'\n",
    "elif(mark>=35):\n",
    "    grade ='S'\n",
    "else:\n",
    "    grade ='F'\n",
    "print(\"Grade is\",grade)"
   ]
  },
  {
   "cell_type": "code",
   "execution_count": 51,
   "id": "3bde7f53",
   "metadata": {},
   "outputs": [
    {
     "name": "stdout",
     "output_type": "stream",
     "text": [
      "Enter First Number: 67\n",
      "Enter Second Number: 82\n",
      "Enter Third Number: 39\n",
      "The highest is:  82\n"
     ]
    }
   ],
   "source": [
    "no1=int(input(\"Enter First Number: \"))\n",
    "no2=int(input(\"Enter Second Number: \"))\n",
    "no3=int(input(\"Enter Third Number: \"))\n",
    "max=no1\n",
    "if(no2>max):\n",
    "    max=no2\n",
    "if(no3>max):\n",
    "    max=no3\n",
    "print(\"The highest is: \",max)"
   ]
  },
  {
   "cell_type": "code",
   "execution_count": 52,
   "id": "17cd6e32",
   "metadata": {},
   "outputs": [
    {
     "name": "stdout",
     "output_type": "stream",
     "text": [
      "Enter a number: 68\n",
      "Positive number\n"
     ]
    }
   ],
   "source": [
    "num = float(input(\"Enter a number: \"))\n",
    "if num >= 0:\n",
    "    if num == 0:\n",
    "        print(\"Zero\")\n",
    "    else:\n",
    "        print(\"Positive number\")\n",
    "else:\n",
    "    print(\"Negative number\")"
   ]
  },
  {
   "cell_type": "markdown",
   "id": "7c7b93f9",
   "metadata": {},
   "source": [
    "## Inbuilt Functions"
   ]
  },
  {
   "cell_type": "markdown",
   "id": "6df9d469",
   "metadata": {},
   "source": [
    "### print() function"
   ]
  },
  {
   "cell_type": "code",
   "execution_count": 53,
   "id": "f494afa1",
   "metadata": {},
   "outputs": [
    {
     "name": "stdout",
     "output_type": "stream",
     "text": [
      "Python Programming\n",
      "Python Programming\n"
     ]
    }
   ],
   "source": [
    "print(\"Python\", \"Programming\")\n",
    "print('Python', 'Programming')"
   ]
  },
  {
   "cell_type": "code",
   "execution_count": 54,
   "id": "4741c095",
   "metadata": {},
   "outputs": [
    {
     "name": "stdout",
     "output_type": "stream",
     "text": [
      "Python--Programming\n"
     ]
    }
   ],
   "source": [
    "print(\"Python\", \"Programming\", sep='--')"
   ]
  },
  {
   "cell_type": "markdown",
   "id": "df4ff5fc",
   "metadata": {},
   "source": [
    "### pow()"
   ]
  },
  {
   "cell_type": "code",
   "execution_count": 55,
   "id": "396e3011",
   "metadata": {},
   "outputs": [
    {
     "name": "stdout",
     "output_type": "stream",
     "text": [
      "8\n"
     ]
    }
   ],
   "source": [
    "power = pow(2, 3) # 2 * 2 * 2\n",
    "print(power)"
   ]
  },
  {
   "cell_type": "code",
   "execution_count": 56,
   "id": "ce1d683f",
   "metadata": {},
   "outputs": [
    {
     "name": "stdout",
     "output_type": "stream",
     "text": [
      "3\n"
     ]
    }
   ],
   "source": [
    "power = pow(2, 3, 5) # (2 * 2 * 2) % 5\n",
    "print(power)"
   ]
  },
  {
   "cell_type": "code",
   "execution_count": 57,
   "id": "cb8865c1",
   "metadata": {},
   "outputs": [
    {
     "name": "stdout",
     "output_type": "stream",
     "text": [
      "Enter First Number: 4\n",
      "Enter Second Number: 2\n",
      "16\n"
     ]
    }
   ],
   "source": [
    "no1=int(input(\"Enter First Number: \"))\n",
    "no2=int(input(\"Enter Second Number: \"))\n",
    "power=pow(no1,no2)\n",
    "print(power)"
   ]
  },
  {
   "cell_type": "markdown",
   "id": "a4619dfc",
   "metadata": {},
   "source": [
    "### type()"
   ]
  },
  {
   "cell_type": "code",
   "execution_count": 59,
   "id": "355b2d80",
   "metadata": {},
   "outputs": [
    {
     "name": "stdout",
     "output_type": "stream",
     "text": [
      "<class 'str'>\n",
      "<class 'int'>\n",
      "<class 'tuple'>\n"
     ]
    }
   ],
   "source": [
    "a = \"Hello\"\n",
    "b = 300\n",
    "c = (\"Cat\", \"Dog\", \"Sheep\")\n",
    "\n",
    "x = type(a)\n",
    "y = type(b)\n",
    "z = type(c)\n",
    "\n",
    "print(x)\n",
    "print(y)\n",
    "print(z)"
   ]
  },
  {
   "cell_type": "code",
   "execution_count": 60,
   "id": "e7b29c04",
   "metadata": {},
   "outputs": [
    {
     "name": "stdout",
     "output_type": "stream",
     "text": [
      "<class 'str'>\n"
     ]
    }
   ],
   "source": [
    "a=\"NSBM\"\n",
    "b=type(a)\n",
    "print(b)"
   ]
  },
  {
   "cell_type": "code",
   "execution_count": 61,
   "id": "69ffffc4",
   "metadata": {},
   "outputs": [
    {
     "name": "stdout",
     "output_type": "stream",
     "text": [
      "<class 'list'>\n"
     ]
    }
   ],
   "source": [
    "p=[\"abc\", \"mno\", \"pqr\"]\n",
    "q=type(p)\n",
    "print(q)"
   ]
  },
  {
   "cell_type": "markdown",
   "id": "a85b496f",
   "metadata": {},
   "source": [
    "### round()"
   ]
  },
  {
   "cell_type": "code",
   "execution_count": 62,
   "id": "f2df84d8",
   "metadata": {},
   "outputs": [
    {
     "name": "stdout",
     "output_type": "stream",
     "text": [
      "3568\n"
     ]
    }
   ],
   "source": [
    "b=round(3567.6789)\n",
    "print(b)"
   ]
  },
  {
   "cell_type": "code",
   "execution_count": 63,
   "id": "1ceaf2ae",
   "metadata": {},
   "outputs": [
    {
     "name": "stdout",
     "output_type": "stream",
     "text": [
      "3567.68\n"
     ]
    }
   ],
   "source": [
    "b=round(3567.6789,2)\n",
    "print(b)"
   ]
  },
  {
   "cell_type": "markdown",
   "id": "7380c595",
   "metadata": {},
   "source": [
    "### ord()"
   ]
  },
  {
   "cell_type": "code",
   "execution_count": 64,
   "id": "e17b205d",
   "metadata": {},
   "outputs": [
    {
     "data": {
      "text/plain": [
       "66"
      ]
     },
     "execution_count": 64,
     "metadata": {},
     "output_type": "execute_result"
    }
   ],
   "source": [
    "ord('B')"
   ]
  },
  {
   "cell_type": "markdown",
   "id": "fc36ddd2",
   "metadata": {},
   "source": [
    "### find()"
   ]
  },
  {
   "cell_type": "code",
   "execution_count": 65,
   "id": "461de1ab",
   "metadata": {},
   "outputs": [
    {
     "name": "stdout",
     "output_type": "stream",
     "text": [
      "1\n"
     ]
    }
   ],
   "source": [
    "text=\"Hello, Welcome to Programming\"\n",
    "x=text.find(\"e\")\n",
    "print(x)"
   ]
  },
  {
   "cell_type": "markdown",
   "id": "8d7a2619",
   "metadata": {},
   "source": [
    "- The indexing starts from 0"
   ]
  },
  {
   "cell_type": "code",
   "execution_count": 66,
   "id": "44ab895d",
   "metadata": {},
   "outputs": [
    {
     "name": "stdout",
     "output_type": "stream",
     "text": [
      "7\n"
     ]
    }
   ],
   "source": [
    "text=\"Hello, Welcome to Programming\"\n",
    "x=text.find(\"Welcome\")\n",
    "print(x)"
   ]
  },
  {
   "cell_type": "code",
   "execution_count": 67,
   "id": "ad320447",
   "metadata": {},
   "outputs": [
    {
     "name": "stdout",
     "output_type": "stream",
     "text": [
      "-1\n"
     ]
    }
   ],
   "source": [
    "text=\"Hello, Welcome to Programming\"\n",
    "x=text.find(\"j\")\n",
    "print(x)"
   ]
  },
  {
   "cell_type": "markdown",
   "id": "9638a0c0",
   "metadata": {},
   "source": [
    "- find() function returns -1 if the value is not found"
   ]
  },
  {
   "cell_type": "markdown",
   "id": "4f7b50dd",
   "metadata": {},
   "source": [
    "### min()"
   ]
  },
  {
   "cell_type": "code",
   "execution_count": 68,
   "id": "e1091bd6",
   "metadata": {},
   "outputs": [
    {
     "name": "stdout",
     "output_type": "stream",
     "text": [
      "2\n"
     ]
    }
   ],
   "source": [
    "x=min(2,6,4,8)\n",
    "print(x)"
   ]
  },
  {
   "cell_type": "code",
   "execution_count": 69,
   "id": "dfc633af",
   "metadata": {},
   "outputs": [
    {
     "name": "stdout",
     "output_type": "stream",
     "text": [
      "Martin\n"
     ]
    }
   ],
   "source": [
    "x=min(\"Mike\", \"Martin\", \"Victor\")\n",
    "print(x)"
   ]
  },
  {
   "cell_type": "markdown",
   "id": "c5dc5adc",
   "metadata": {},
   "source": [
    "### max()"
   ]
  },
  {
   "cell_type": "code",
   "execution_count": 2,
   "id": "0e928b91",
   "metadata": {},
   "outputs": [
    {
     "name": "stdout",
     "output_type": "stream",
     "text": [
      "9\n"
     ]
    }
   ],
   "source": [
    "y = max(2, 7, 9, 8)\n",
    "print (y)"
   ]
  },
  {
   "cell_type": "code",
   "execution_count": 3,
   "id": "9dadef09",
   "metadata": {},
   "outputs": [
    {
     "name": "stdout",
     "output_type": "stream",
     "text": [
      "Victor\n"
     ]
    }
   ],
   "source": [
    "y=max(\"Mike\", \"Martin\", \"Victor\")\n",
    "print(y)"
   ]
  },
  {
   "cell_type": "markdown",
   "id": "59049f93",
   "metadata": {},
   "source": [
    "### len()"
   ]
  },
  {
   "cell_type": "code",
   "execution_count": 4,
   "id": "8213c0c5",
   "metadata": {},
   "outputs": [
    {
     "name": "stdout",
     "output_type": "stream",
     "text": [
      "11\n"
     ]
    }
   ],
   "source": [
    "word=\"Programming\"\n",
    "print(len(word))"
   ]
  },
  {
   "cell_type": "code",
   "execution_count": 5,
   "id": "ccedf49b",
   "metadata": {},
   "outputs": [
    {
     "name": "stdout",
     "output_type": "stream",
     "text": [
      "6\n"
     ]
    }
   ],
   "source": [
    "word= \"453890\"\n",
    "print(len(word))"
   ]
  },
  {
   "cell_type": "markdown",
   "id": "e2904d65",
   "metadata": {},
   "source": [
    "### id() "
   ]
  },
  {
   "cell_type": "code",
   "execution_count": 6,
   "id": "215476e8",
   "metadata": {},
   "outputs": [
    {
     "name": "stdout",
     "output_type": "stream",
     "text": [
      "1361688140656\n",
      "1361688135600\n"
     ]
    }
   ],
   "source": [
    "word1= \"Programme\"\n",
    "word2=\"Program\"\n",
    "print(id(word1))\n",
    "print(id(word2))"
   ]
  },
  {
   "cell_type": "markdown",
   "id": "e07a6323",
   "metadata": {},
   "source": [
    "- id is the object’s memory address"
   ]
  },
  {
   "cell_type": "code",
   "execution_count": 7,
   "id": "aa5c4a28",
   "metadata": {},
   "outputs": [
    {
     "name": "stdout",
     "output_type": "stream",
     "text": [
      "False\n",
      "False\n"
     ]
    }
   ],
   "source": [
    "word1= \"Programme\"\n",
    "word2=\"Program\"\n",
    "print(word1==word2)    # == → Checks the variables are equal in element wise\n",
    "print(word1 is word2)  # is → Checks the memory address(ID)"
   ]
  },
  {
   "cell_type": "code",
   "execution_count": 8,
   "id": "850f5d9c",
   "metadata": {},
   "outputs": [
    {
     "name": "stdout",
     "output_type": "stream",
     "text": [
      "1361688150704\n"
     ]
    }
   ],
   "source": [
    "word1= \"Programme\"\n",
    "word1 += \"Python\"\n",
    "print(id(word1))"
   ]
  },
  {
   "cell_type": "markdown",
   "id": "bbcb5887",
   "metadata": {},
   "source": [
    "## Tasks"
   ]
  },
  {
   "cell_type": "code",
   "execution_count": 8,
   "id": "43a396fc",
   "metadata": {},
   "outputs": [
    {
     "name": "stdout",
     "output_type": "stream",
     "text": [
      "Enter your name: Minusha\n",
      "Enter your birthyear: 2001\n",
      "Hey,  Minusha you are  23 years old\n"
     ]
    }
   ],
   "source": [
    "name=input(\"Enter your name: \")\n",
    "byear=int(input(\"Enter your birthyear: \"))\n",
    "years=2024-byear\n",
    "print(\"Hey, \", name, \"you are \", years, \"years old\")"
   ]
  },
  {
   "cell_type": "code",
   "execution_count": 9,
   "id": "5cff5d7b",
   "metadata": {},
   "outputs": [
    {
     "name": "stdout",
     "output_type": "stream",
     "text": [
      "Enter the mark: 79\n",
      "A\n"
     ]
    }
   ],
   "source": [
    "num=int(input(\"Enter the mark: \"))\n",
    "if(num>75):\n",
    "    print(\"A\")\n",
    "elif(num>=65):\n",
    "    print(\"B\")\n",
    "elif(num>=50):\n",
    "    print(\"C\")\n",
    "elif(num>=35):\n",
    "    print(\"S\")\n",
    "else:\n",
    "    print(\"F\")"
   ]
  },
  {
   "cell_type": "markdown",
   "id": "01e61f7f",
   "metadata": {},
   "source": [
    "## Using math library"
   ]
  },
  {
   "cell_type": "code",
   "execution_count": 10,
   "id": "bf243a11",
   "metadata": {},
   "outputs": [
    {
     "name": "stdout",
     "output_type": "stream",
     "text": [
      "3.0\n",
      "120\n",
      "567\n"
     ]
    }
   ],
   "source": [
    "import math\n",
    "\n",
    "print(math.sqrt(9))        \n",
    "print(math.factorial(5))\n",
    "print(math.floor(567.7654))"
   ]
  },
  {
   "cell_type": "markdown",
   "id": "ffa31762",
   "metadata": {},
   "source": [
    "- math.sqrt() → returns the square root value of an object.\n",
    "- math.factorial() → returns the factorial of a given number.\n",
    "- math.floor() → returns the floor value of a specific floating point number."
   ]
  },
  {
   "cell_type": "code",
   "execution_count": 11,
   "id": "4bc88e49",
   "metadata": {},
   "outputs": [
    {
     "name": "stdout",
     "output_type": "stream",
     "text": [
      "Enter number: 32\n",
      "Square root value  5.656854249492381\n"
     ]
    }
   ],
   "source": [
    "import math\n",
    "num=float(input(\"Enter number: \"))\n",
    "print(\"Square root value \",math.sqrt(num))"
   ]
  },
  {
   "cell_type": "code",
   "execution_count": 13,
   "id": "ab78446e",
   "metadata": {},
   "outputs": [
    {
     "name": "stdout",
     "output_type": "stream",
     "text": [
      "Enter number: 42\n",
      "Square root value  42.0\n"
     ]
    }
   ],
   "source": [
    "import math\n",
    "num=float(input(\"Enter number: \"))\n",
    "print(\"Square root value \",num)"
   ]
  },
  {
   "cell_type": "markdown",
   "id": "29651ccf",
   "metadata": {},
   "source": [
    "## Python Functions"
   ]
  },
  {
   "cell_type": "markdown",
   "id": "4b7b9018",
   "metadata": {},
   "source": [
    "###  1. No parameter, No return type"
   ]
  },
  {
   "cell_type": "code",
   "execution_count": 14,
   "id": "6e4985fe",
   "metadata": {},
   "outputs": [
    {
     "name": "stdout",
     "output_type": "stream",
     "text": [
      "Test \n"
     ]
    }
   ],
   "source": [
    "def output():\n",
    "    print(\"Test \") \n",
    "output()"
   ]
  },
  {
   "cell_type": "code",
   "execution_count": 15,
   "id": "d8231fac",
   "metadata": {},
   "outputs": [
    {
     "name": "stdout",
     "output_type": "stream",
     "text": [
      "Sum is:  15\n"
     ]
    }
   ],
   "source": [
    "def findsum():\n",
    "    x=5\n",
    "    y=10\n",
    "    print(\"Sum is: \",x+y)\n",
    "findsum()"
   ]
  },
  {
   "cell_type": "code",
   "execution_count": 17,
   "id": "e9452cbd",
   "metadata": {},
   "outputs": [
    {
     "name": "stdout",
     "output_type": "stream",
     "text": [
      "Enter first number: 67\n",
      "Enter first number: 45\n",
      "The total is:  112\n"
     ]
    }
   ],
   "source": [
    "def findsum():\n",
    "    no1 = int(input(\"Enter first number: \"))\n",
    "    no2 = int(input(\"Enter first number: \"))\n",
    "    total = no1+no2\n",
    "    print(\"The total is: \",total)\n",
    "findsum()"
   ]
  },
  {
   "cell_type": "code",
   "execution_count": 18,
   "id": "746f8fa5",
   "metadata": {},
   "outputs": [
    {
     "name": "stdout",
     "output_type": "stream",
     "text": [
      "Odd Number\n"
     ]
    }
   ],
   "source": [
    "def OddEven():\n",
    "    number = 4567\n",
    "    if (number % 2 == 0):\n",
    "        print(\"Even Number\")\n",
    "    else:\n",
    "        print(\"Odd Number\")\n",
    "OddEven()"
   ]
  },
  {
   "cell_type": "code",
   "execution_count": 19,
   "id": "7b4b95b5",
   "metadata": {},
   "outputs": [
    {
     "name": "stdout",
     "output_type": "stream",
     "text": [
      "5 10\n",
      "10 5\n"
     ]
    }
   ],
   "source": [
    "def swap():\n",
    "    num1 = 5\n",
    "    num2 = 10\n",
    "    \n",
    "    print(num1, num2)\n",
    "    \n",
    "    num3 = num1\n",
    "    num1 = num2\n",
    "    num2 = num3\n",
    "    \n",
    "    print(num1, num2)\n",
    "swap()   "
   ]
  },
  {
   "cell_type": "markdown",
   "id": "4f5c4a94",
   "metadata": {},
   "source": [
    "### 2. No parameter, With return type"
   ]
  },
  {
   "cell_type": "code",
   "execution_count": 20,
   "id": "e6cb0624",
   "metadata": {},
   "outputs": [
    {
     "name": "stdout",
     "output_type": "stream",
     "text": [
      "Enter first number: 78\n",
      "Enter first number: 3\n"
     ]
    },
    {
     "data": {
      "text/plain": [
       "234"
      ]
     },
     "execution_count": 20,
     "metadata": {},
     "output_type": "execute_result"
    }
   ],
   "source": [
    "def findpro():\n",
    "    no1 = int(input(\"Enter first number: \"))\n",
    "    no2 = int(input(\"Enter first number: \"))\n",
    "    return no1* no2\n",
    "findpro()"
   ]
  },
  {
   "cell_type": "markdown",
   "id": "aa8da7c7",
   "metadata": {},
   "source": [
    "### 3. With parameter, No return type"
   ]
  },
  {
   "cell_type": "code",
   "execution_count": 21,
   "id": "21dc6349",
   "metadata": {},
   "outputs": [
    {
     "name": "stdout",
     "output_type": "stream",
     "text": [
      "Product is:  200\n"
     ]
    }
   ],
   "source": [
    "def product(a,b):\n",
    "    c = a*b\n",
    "    print(\"Product is: \",c)\n",
    "product(10, 20)"
   ]
  },
  {
   "cell_type": "code",
   "execution_count": 22,
   "id": "252045f9",
   "metadata": {},
   "outputs": [
    {
     "name": "stdout",
     "output_type": "stream",
     "text": [
      "Product is:  20\n",
      "Product is:  40\n"
     ]
    }
   ],
   "source": [
    "def product(a,b=4):\n",
    "    c = a*b\n",
    "    print(\"Product is: \",c)\n",
    "product(5)\n",
    "product(10)"
   ]
  },
  {
   "cell_type": "code",
   "execution_count": 23,
   "id": "104668f8",
   "metadata": {},
   "outputs": [
    {
     "name": "stdout",
     "output_type": "stream",
     "text": [
      "Enter first number: 67\n",
      "Enter first number: 30\n",
      "The total is:  97\n"
     ]
    }
   ],
   "source": [
    "def findsum(no1, no2):\n",
    "    total = no1+no2\n",
    "    print(\"The total is: \",total)\n",
    "no1 = int(input(\"Enter first number: \"))\n",
    "no2 = int(input(\"Enter first number: \"))\n",
    "findsum(no1, no2)"
   ]
  },
  {
   "cell_type": "code",
   "execution_count": 24,
   "id": "e7aa80df",
   "metadata": {},
   "outputs": [
    {
     "name": "stdout",
     "output_type": "stream",
     "text": [
      "The total is:  15\n"
     ]
    }
   ],
   "source": [
    "def findsum(no1, no2=10):\n",
    "    total = no1+no2\n",
    "    print(\"The total is: \",total)\n",
    "findsum(5)"
   ]
  },
  {
   "cell_type": "markdown",
   "id": "64a4fb9c",
   "metadata": {},
   "source": [
    "### 4. With parameter, With return type"
   ]
  },
  {
   "cell_type": "code",
   "execution_count": 25,
   "id": "aa9f414a",
   "metadata": {},
   "outputs": [
    {
     "name": "stdout",
     "output_type": "stream",
     "text": [
      "Enter first number: 23\n",
      "Enter first number: 43\n"
     ]
    },
    {
     "data": {
      "text/plain": [
       "989"
      ]
     },
     "execution_count": 25,
     "metadata": {},
     "output_type": "execute_result"
    }
   ],
   "source": [
    "def findpro(a, b):\n",
    "    return a*b\n",
    "#calling the function\n",
    "no1 = int(input(\"Enter first number: \"))\n",
    "no2 = int(input(\"Enter first number: \"))\n",
    "findpro(no1, no2)"
   ]
  },
  {
   "cell_type": "markdown",
   "id": "f1c438f1",
   "metadata": {},
   "source": [
    "## Lists"
   ]
  },
  {
   "cell_type": "code",
   "execution_count": 26,
   "id": "30a8a3ac",
   "metadata": {},
   "outputs": [
    {
     "name": "stdout",
     "output_type": "stream",
     "text": [
      "['Java', 'Python', 'C']\n"
     ]
    }
   ],
   "source": [
    "languages = [\"Java\", \"Python\", \"C\"]\n",
    "print(languages)"
   ]
  },
  {
   "cell_type": "code",
   "execution_count": 27,
   "id": "fceefe0f",
   "metadata": {},
   "outputs": [
    {
     "name": "stdout",
     "output_type": "stream",
     "text": [
      "['Ann', 75, 'Tom', 89.9]\n"
     ]
    }
   ],
   "source": [
    "randomList = [\"Ann\", 75, \"Tom\", 89.9]\n",
    "print(randomList)"
   ]
  },
  {
   "cell_type": "code",
   "execution_count": 28,
   "id": "6b649077",
   "metadata": {},
   "outputs": [
    {
     "name": "stdout",
     "output_type": "stream",
     "text": [
      "[4, 8, 2, 10, 12] ['Apple', 'Banana', 'Grapes'] ['Car', 'Van', 'Train']\n"
     ]
    }
   ],
   "source": [
    "Numbers = [4, 8, 2, 10, 12]\n",
    "Fruits = [\"Apple\", \"Banana\", \"Grapes\"]\n",
    "Vehicles = [\"Car\", \"Van\", \"Train\"]\n",
    "print(Numbers, Fruits, Vehicles)"
   ]
  },
  {
   "cell_type": "markdown",
   "id": "a050f4cb",
   "metadata": {},
   "source": [
    "### List Indexing"
   ]
  },
  {
   "cell_type": "code",
   "execution_count": 29,
   "id": "5a77f298",
   "metadata": {},
   "outputs": [
    {
     "name": "stdout",
     "output_type": "stream",
     "text": [
      "A\n",
      "C\n",
      "E\n"
     ]
    }
   ],
   "source": [
    "grade = [\"A\",\"B\",\"C\",\"D\",\"E\"]\n",
    "print(grade[0])\n",
    "print(grade[2])\n",
    "print(grade[-1])"
   ]
  },
  {
   "cell_type": "markdown",
   "id": "87f550e1",
   "metadata": {},
   "source": [
    "### List Slicing"
   ]
  },
  {
   "cell_type": "code",
   "execution_count": 30,
   "id": "4c09ec84",
   "metadata": {},
   "outputs": [
    {
     "name": "stdout",
     "output_type": "stream",
     "text": [
      "['Y', 'T']\n"
     ]
    }
   ],
   "source": [
    "STR = ['P','Y','T','H','O','N']\n",
    "sliced = STR[1:3]\n",
    "print(sliced)"
   ]
  },
  {
   "cell_type": "code",
   "execution_count": 31,
   "id": "76afebc6",
   "metadata": {},
   "outputs": [
    {
     "name": "stdout",
     "output_type": "stream",
     "text": [
      "[90, 85, 44]\n"
     ]
    }
   ],
   "source": [
    "marks = [70, 50, 60, 90, 85, 44, 52, 78]\n",
    "print(marks[3:6])"
   ]
  },
  {
   "cell_type": "code",
   "execution_count": 32,
   "id": "bcd1fea2",
   "metadata": {},
   "outputs": [
    {
     "name": "stdout",
     "output_type": "stream",
     "text": [
      "I\n",
      "['I', 'V', 'E']\n",
      "T\n",
      "['R', 'S', 'I']\n",
      "['U', 'N', 'I', 'V', 'E', 'R', 'S', 'I', 'T', 'Y']\n",
      "['Y', 'T', 'I', 'S', 'R', 'E', 'V', 'I', 'N', 'U']\n",
      "['U', 'I', 'E', 'S', 'T']\n",
      "['Y', 'I', 'R', 'V', 'N']\n",
      "['U', 'N', 'I', 'V', 'E', 'R', 'S', 'I', 'T', 'Y']\n"
     ]
    }
   ],
   "source": [
    "uniList = ['U', 'N', 'I', 'V', 'E', 'R', 'S', 'I', 'T', 'Y']\n",
    "print(uniList[2])\n",
    "print(uniList[2:5])\n",
    "print(uniList[-2])\n",
    "print(uniList[-5:-2])\n",
    "print(uniList[::1])\n",
    "print(uniList[::-1])\n",
    "print(uniList[::2])\n",
    "print(uniList[::-2])\n",
    "print(uniList[:])"
   ]
  },
  {
   "cell_type": "markdown",
   "id": "01a30618",
   "metadata": {},
   "source": [
    "### reverse() function"
   ]
  },
  {
   "cell_type": "code",
   "execution_count": 33,
   "id": "2996a012",
   "metadata": {},
   "outputs": [
    {
     "name": "stdout",
     "output_type": "stream",
     "text": [
      "[23, 67, 11, 26, 76, 91, 35, 52, 45]\n",
      "[45, 52, 35, 91, 76, 26, 11, 67, 23]\n",
      "[45, 52, 35, 91, 76, 26, 11, 67, 23]\n"
     ]
    }
   ],
   "source": [
    "marks = [23,67,11,26,76,91,35,52,45]\n",
    "print(marks)\n",
    "\n",
    "print(marks[::-1])\n",
    "\n",
    "marks.reverse()\n",
    "print(marks)"
   ]
  },
  {
   "cell_type": "markdown",
   "id": "e002de77",
   "metadata": {},
   "source": [
    "### Assigning/Deleting/Sorting Lists"
   ]
  },
  {
   "cell_type": "code",
   "execution_count": 34,
   "id": "4c5698b3",
   "metadata": {},
   "outputs": [
    {
     "name": "stdout",
     "output_type": "stream",
     "text": [
      "[23, 67, 0, 0, 76, 91, 35, 52, 45]\n"
     ]
    }
   ],
   "source": [
    "marks = [23,67,11,26,76,91,35,52,45]\n",
    "\n",
    "marks[2:4] = [0,0]\n",
    "print(marks)"
   ]
  },
  {
   "cell_type": "code",
   "execution_count": 35,
   "id": "9aebc196",
   "metadata": {},
   "outputs": [
    {
     "name": "stdout",
     "output_type": "stream",
     "text": [
      "[23, 67, 11, 26, 76, 91, 35, 45]\n"
     ]
    }
   ],
   "source": [
    "marks = [23,67,11,26,76,91,35,52,45]\n",
    "\n",
    "del marks[-2]\n",
    "print(marks)"
   ]
  },
  {
   "cell_type": "code",
   "execution_count": 9,
   "id": "41a34c78",
   "metadata": {},
   "outputs": [
    {
     "name": "stdout",
     "output_type": "stream",
     "text": [
      "[23, 67, 76, 91, 35, 52, 45]\n"
     ]
    }
   ],
   "source": [
    "marks = [23,67,11,26,76,91,35,52,45]\n",
    "\n",
    "del marks[2:4]\n",
    "print(marks)"
   ]
  },
  {
   "cell_type": "code",
   "execution_count": 10,
   "id": "b3cc57ef",
   "metadata": {},
   "outputs": [
    {
     "name": "stdout",
     "output_type": "stream",
     "text": [
      "[23, 67, 11, 26, 76, 91, 35, 52, 45]\n",
      "[11, 23, 26, 35, 45, 52, 67, 76, 91]\n"
     ]
    }
   ],
   "source": [
    "marks = [23,67,11,26,76,91,35,52,45]\n",
    "print(marks)\n",
    "\n",
    "orderdedList = sorted(marks)\n",
    "print(orderdedList)"
   ]
  },
  {
   "cell_type": "markdown",
   "id": "84403445",
   "metadata": {},
   "source": [
    "### append() function"
   ]
  },
  {
   "cell_type": "code",
   "execution_count": 11,
   "id": "6a32b0cd",
   "metadata": {},
   "outputs": [
    {
     "name": "stdout",
     "output_type": "stream",
     "text": [
      "[23, 67, 11, 6, 5, 9, [16, 30]]\n"
     ]
    }
   ],
   "source": [
    "marks = [23,67,11,6,5,9]\n",
    "\n",
    "marks.append([16,30])\n",
    "print(marks)"
   ]
  },
  {
   "cell_type": "markdown",
   "id": "d80e2ba7",
   "metadata": {},
   "source": [
    "### extend() function"
   ]
  },
  {
   "cell_type": "code",
   "execution_count": 12,
   "id": "c652b75e",
   "metadata": {},
   "outputs": [
    {
     "name": "stdout",
     "output_type": "stream",
     "text": [
      "[23, 67, 11, 6, 5, 9, 6, 20]\n"
     ]
    }
   ],
   "source": [
    "marks = [23,67,11,6,5,9]\n",
    "\n",
    "marks.extend([6,20])\n",
    "print(marks)"
   ]
  },
  {
   "cell_type": "markdown",
   "id": "9965d4b8",
   "metadata": {},
   "source": [
    "### insert() function"
   ]
  },
  {
   "cell_type": "code",
   "execution_count": 13,
   "id": "95674d6b",
   "metadata": {},
   "outputs": [
    {
     "name": "stdout",
     "output_type": "stream",
     "text": [
      "['one', 'two', 'three', 'four']\n"
     ]
    }
   ],
   "source": [
    "numbers = [\"one\", \"two\", \"four\"]\n",
    "numbers.insert(2, \"three\")\n",
    "print(numbers)"
   ]
  },
  {
   "cell_type": "markdown",
   "id": "d5064877",
   "metadata": {},
   "source": [
    "### List Operations"
   ]
  },
  {
   "cell_type": "code",
   "execution_count": 14,
   "id": "2a927d7b",
   "metadata": {},
   "outputs": [
    {
     "name": "stdout",
     "output_type": "stream",
     "text": [
      "['Car', 'Van', 'Bus', 'Bicycle', 'Lorry']\n"
     ]
    }
   ],
   "source": [
    "Vehicles1 = [\"Car\", \"Van\", \"Bus\"]\n",
    "Vehicles2 = [\"Bicycle\", \"Lorry\"]\n",
    "Vehicles = Vehicles1 + Vehicles2\n",
    "print(Vehicles)"
   ]
  },
  {
   "cell_type": "code",
   "execution_count": 15,
   "id": "0ba7d56c",
   "metadata": {},
   "outputs": [
    {
     "name": "stdout",
     "output_type": "stream",
     "text": [
      "[4, 6, 3, 9, 8, 4, 6, 3, 9, 8]\n"
     ]
    }
   ],
   "source": [
    "Numbers = [4,6, 3, 9, 8]\n",
    "Num = Numbers * 2\n",
    "print(Num)"
   ]
  },
  {
   "cell_type": "markdown",
   "id": "ec5c7bca",
   "metadata": {},
   "source": [
    "## while() Loop"
   ]
  },
  {
   "cell_type": "code",
   "execution_count": 16,
   "id": "d6f81913",
   "metadata": {},
   "outputs": [
    {
     "name": "stdout",
     "output_type": "stream",
     "text": [
      "The sum of the first 10 natural numbers:  55\n"
     ]
    }
   ],
   "source": [
    "i = 1\n",
    "sum = 0\n",
    "n = 10\n",
    "\n",
    "while(i <= n):\n",
    "    sum += i\n",
    "    i += 1\n",
    "    \n",
    "print(\"The sum of the first 10 natural numbers: \", sum)"
   ]
  },
  {
   "cell_type": "code",
   "execution_count": 2,
   "id": "5ba090a2",
   "metadata": {},
   "outputs": [
    {
     "name": "stdout",
     "output_type": "stream",
     "text": [
      "24\n",
      "48\n",
      "72\n",
      "96\n",
      "120\n",
      "144\n",
      "168\n",
      "192\n",
      "216\n",
      "240\n"
     ]
    }
   ],
   "source": [
    "i = 1\n",
    "n = 10\n",
    "\n",
    "while(i <= n):\n",
    "    print(24*i)\n",
    "    i += 1"
   ]
  },
  {
   "cell_type": "code",
   "execution_count": 3,
   "id": "1a19ba3b",
   "metadata": {},
   "outputs": [
    {
     "name": "stdout",
     "output_type": "stream",
     "text": [
      "*\n",
      "**\n",
      "***\n",
      "****\n",
      "*****\n"
     ]
    }
   ],
   "source": [
    "i = 1\n",
    "\n",
    "while(i <= 5):\n",
    "    print(\"*\" * i)\n",
    "    i += 1"
   ]
  },
  {
   "cell_type": "code",
   "execution_count": 4,
   "id": "38386e6e",
   "metadata": {},
   "outputs": [
    {
     "name": "stdout",
     "output_type": "stream",
     "text": [
      "0\n",
      "2\n",
      "4\n",
      "6\n",
      "8\n",
      "10\n",
      "12\n",
      "14\n",
      "16\n",
      "18\n",
      "20\n",
      "22\n",
      "24\n"
     ]
    }
   ],
   "source": [
    "i = 0\n",
    "\n",
    "while(i <= 25):\n",
    "    if(i % 2 == 0):\n",
    "        print(i)\n",
    "    i += 1"
   ]
  },
  {
   "cell_type": "code",
   "execution_count": 5,
   "id": "96a09ae8",
   "metadata": {},
   "outputs": [
    {
     "name": "stdout",
     "output_type": "stream",
     "text": [
      "0\n",
      "1\n",
      "2\n",
      "3\n",
      "4\n",
      "5\n",
      "6\n",
      "7\n",
      "8\n",
      "9\n",
      "10\n",
      "11\n",
      "12\n",
      "13\n",
      "14\n",
      "15\n",
      "16\n",
      "17\n",
      "18\n",
      "19\n",
      "20\n",
      "21\n",
      "22\n",
      "23\n",
      "24\n",
      "25\n"
     ]
    }
   ],
   "source": [
    "i = 0\n",
    "\n",
    "while(i <= 25):\n",
    "    \n",
    "    print(i)\n",
    "    i += 1"
   ]
  },
  {
   "cell_type": "code",
   "execution_count": 6,
   "id": "4f926f0f",
   "metadata": {},
   "outputs": [
    {
     "name": "stdout",
     "output_type": "stream",
     "text": [
      "Enter the number: 26\n",
      "Total count of digits:  2\n"
     ]
    }
   ],
   "source": [
    "number = int(input(\"Enter the number: \"))\n",
    "\n",
    "count = 0\n",
    "\n",
    "while(number != 0):\n",
    "    number //= 10\n",
    "    count += 1\n",
    "    \n",
    "print(\"Total count of digits: \", count)"
   ]
  },
  {
   "cell_type": "code",
   "execution_count": 7,
   "id": "82f4cf42",
   "metadata": {},
   "outputs": [
    {
     "name": "stdout",
     "output_type": "stream",
     "text": [
      "Reverse Number:  45678\n"
     ]
    }
   ],
   "source": [
    "number = 87654\n",
    "\n",
    "reverseNumber = 0\n",
    "\n",
    "while(number > 0):\n",
    "    reminder = number % 10\n",
    "    reverseNumber = (reverseNumber * 10) + reminder\n",
    "    number = number // 10\n",
    "    \n",
    "print(\"Reverse Number: \", reverseNumber)"
   ]
  },
  {
   "cell_type": "markdown",
   "id": "0f7eed69",
   "metadata": {},
   "source": [
    "## for() Loop"
   ]
  },
  {
   "cell_type": "code",
   "execution_count": 8,
   "id": "5354ec50",
   "metadata": {},
   "outputs": [
    {
     "name": "stdout",
     "output_type": "stream",
     "text": [
      "A\n",
      "V\n",
      "E\n",
      "N\n",
      "G\n",
      "E\n",
      "R\n",
      "S\n"
     ]
    }
   ],
   "source": [
    "for x in \"AVENGERS\":\n",
    "    print(x)"
   ]
  },
  {
   "cell_type": "code",
   "execution_count": 9,
   "id": "b9b1b772",
   "metadata": {},
   "outputs": [
    {
     "name": "stdout",
     "output_type": "stream",
     "text": [
      "Colombo\n",
      "Kaluthara\n",
      "Ja-ela\n"
     ]
    }
   ],
   "source": [
    "districts = ['Colombo', 'Kaluthara', 'Ja-ela']\n",
    "\n",
    "for district in districts:\n",
    "    print(district)"
   ]
  },
  {
   "cell_type": "markdown",
   "id": "ec247539",
   "metadata": {},
   "source": [
    "## Nested for() Loop"
   ]
  },
  {
   "cell_type": "code",
   "execution_count": 10,
   "id": "f2f8677d",
   "metadata": {},
   "outputs": [
    {
     "name": "stdout",
     "output_type": "stream",
     "text": [
      "white car\n",
      "white van\n",
      "white bus\n",
      "red car\n",
      "red van\n",
      "red bus\n",
      "yellow car\n",
      "yellow van\n",
      "yellow bus\n"
     ]
    }
   ],
   "source": [
    "colors = [\"white\", \"red\", \"yellow\"]\n",
    "vehicles = [\"car\", \"van\", \"bus\"]\n",
    "\n",
    "for c in colors:\n",
    "    for v in vehicles:\n",
    "        print(c, v)"
   ]
  },
  {
   "cell_type": "markdown",
   "id": "49625191",
   "metadata": {},
   "source": [
    "### range() function"
   ]
  },
  {
   "cell_type": "code",
   "execution_count": 11,
   "id": "482dce09",
   "metadata": {},
   "outputs": [
    {
     "name": "stdout",
     "output_type": "stream",
     "text": [
      "0\n",
      "1\n",
      "2\n",
      "3\n",
      "4\n",
      "5\n",
      "6\n",
      "7\n",
      "8\n",
      "9\n"
     ]
    }
   ],
   "source": [
    "for n in range(10):\n",
    "    print(n)"
   ]
  },
  {
   "cell_type": "code",
   "execution_count": 12,
   "id": "3058d142",
   "metadata": {},
   "outputs": [
    {
     "name": "stdout",
     "output_type": "stream",
     "text": [
      "2\n",
      "3\n",
      "4\n"
     ]
    }
   ],
   "source": [
    "for n in range(2, 5):\n",
    "    print(n)"
   ]
  },
  {
   "cell_type": "code",
   "execution_count": 13,
   "id": "85d8ca92",
   "metadata": {},
   "outputs": [
    {
     "name": "stdout",
     "output_type": "stream",
     "text": [
      "2\n",
      "4\n",
      "6\n",
      "8\n"
     ]
    }
   ],
   "source": [
    "for n in range(2, 10, 2):\n",
    "    print(n)"
   ]
  },
  {
   "cell_type": "code",
   "execution_count": 15,
   "id": "703a637c",
   "metadata": {},
   "outputs": [
    {
     "name": "stdout",
     "output_type": "stream",
     "text": [
      "10\n",
      "8\n",
      "6\n",
      "4\n"
     ]
    }
   ],
   "source": [
    "for n in range(10, 2, -2):\n",
    "    print(n)"
   ]
  },
  {
   "cell_type": "code",
   "execution_count": 16,
   "id": "a0ad63ce",
   "metadata": {},
   "outputs": [
    {
     "name": "stdout",
     "output_type": "stream",
     "text": [
      "55\n"
     ]
    }
   ],
   "source": [
    "sum = 0\n",
    "\n",
    "for num in range(1,11):\n",
    "    sum += num\n",
    "\n",
    "print(sum)"
   ]
  },
  {
   "cell_type": "code",
   "execution_count": 17,
   "id": "ea70ce9a",
   "metadata": {},
   "outputs": [
    {
     "name": "stdout",
     "output_type": "stream",
     "text": [
      "0\n",
      "1\n",
      "4\n",
      "9\n",
      "16\n",
      "25\n",
      "36\n",
      "49\n",
      "64\n",
      "81\n"
     ]
    }
   ],
   "source": [
    "for num in range(0, 10):\n",
    "    print(num * num)"
   ]
  },
  {
   "cell_type": "code",
   "execution_count": 18,
   "id": "46dd7998",
   "metadata": {},
   "outputs": [
    {
     "name": "stdout",
     "output_type": "stream",
     "text": [
      "0\n",
      "1\n",
      "4\n",
      "9\n",
      "16\n",
      "25\n",
      "36\n",
      "49\n",
      "64\n",
      "81\n"
     ]
    }
   ],
   "source": [
    "for num in range(0, 10, 1):\n",
    "    print(num * num)"
   ]
  },
  {
   "cell_type": "code",
   "execution_count": 19,
   "id": "a9176f1f",
   "metadata": {},
   "outputs": [
    {
     "name": "stdout",
     "output_type": "stream",
     "text": [
      "Sum of the even numbers:  20\n"
     ]
    }
   ],
   "source": [
    "sum = 0\n",
    "\n",
    "for num in range(0, 10):\n",
    "    if(num % 2 == 0):\n",
    "        sum += num\n",
    "        \n",
    "print(\"Sum of the even numbers: \",sum)"
   ]
  },
  {
   "cell_type": "code",
   "execution_count": 23,
   "id": "500f1bc3",
   "metadata": {},
   "outputs": [
    {
     "name": "stdout",
     "output_type": "stream",
     "text": [
      "Enter number 01: 9\n",
      "Enter number 02: 6\n",
      "Enter number 03: 2\n",
      "Count of numbers between 9 & 6 : 0\n"
     ]
    }
   ],
   "source": [
    "num1 = int(input(\"Enter number 01: \"))\n",
    "num2 = int(input(\"Enter number 02: \"))\n",
    "num3 = int(input(\"Enter number 03: \"))\n",
    "\n",
    "count = 0\n",
    "\n",
    "for x in range(num1, num2):\n",
    "    if(x % num3 == 0):\n",
    "        count += 1\n",
    "        \n",
    "print(\"Count of numbers between\", num1, \"&\", num2, \":\", count)"
   ]
  },
  {
   "cell_type": "code",
   "execution_count": 24,
   "id": "4dc0587c",
   "metadata": {},
   "outputs": [
    {
     "name": "stdout",
     "output_type": "stream",
     "text": [
      "99  ----  1\n"
     ]
    }
   ],
   "source": [
    "count = 0\n",
    "\n",
    "for x in range(99,0,-1):\n",
    "    count += 1\n",
    "    \n",
    "print(count, \" ---- \", x)"
   ]
  },
  {
   "cell_type": "code",
   "execution_count": 25,
   "id": "b7ee586b",
   "metadata": {},
   "outputs": [
    {
     "name": "stdout",
     "output_type": "stream",
     "text": [
      "Enter an integer: 5\n",
      "5 x 1 = 5\n",
      "5 x 2 = 10\n",
      "5 x 3 = 15\n",
      "5 x 4 = 20\n",
      "5 x 5 = 25\n",
      "5 x 6 = 30\n",
      "5 x 7 = 35\n",
      "5 x 8 = 40\n",
      "5 x 9 = 45\n",
      "5 x 10 = 50\n"
     ]
    }
   ],
   "source": [
    "number = int(input(\"Enter an integer: \"))\n",
    "\n",
    "for count in range(1,11):\n",
    "    product = number * count\n",
    "    print(number, \"x\", count, \"=\", product)"
   ]
  },
  {
   "cell_type": "code",
   "execution_count": 26,
   "id": "3e5ad959",
   "metadata": {},
   "outputs": [
    {
     "name": "stdout",
     "output_type": "stream",
     "text": [
      "50\n",
      "40\n",
      "30\n",
      "20\n",
      "10\n"
     ]
    }
   ],
   "source": [
    "numList = [10,20,30,40,50]\n",
    "\n",
    "for n in range(4,-1,-1):\n",
    "    print(numList[n])"
   ]
  },
  {
   "cell_type": "code",
   "execution_count": 27,
   "id": "794281a8",
   "metadata": {},
   "outputs": [
    {
     "name": "stdout",
     "output_type": "stream",
     "text": [
      "1\n",
      "Monday\n",
      "Tuesday\n",
      "Wednesday\n",
      "2\n",
      "Monday\n",
      "Tuesday\n",
      "Wednesday\n",
      "3\n",
      "Monday\n",
      "Tuesday\n",
      "Wednesday\n"
     ]
    }
   ],
   "source": [
    "numList = [1,2,3]\n",
    "weekDay = [\"Monday\", \"Tuesday\", \"Wednesday\"]\n",
    "\n",
    "for n in numList:\n",
    "    print(n)\n",
    "    for w in weekDay:\n",
    "        print(w)"
   ]
  },
  {
   "cell_type": "code",
   "execution_count": 30,
   "id": "4e416d96",
   "metadata": {},
   "outputs": [
    {
     "name": "stdout",
     "output_type": "stream",
     "text": [
      "Enter your name: Minusha\n",
      "Minusha  Minusha  Minusha  \n",
      "Minusha  Minusha  Minusha  \n",
      "Minusha  Minusha  Minusha  \n",
      "Minusha  Minusha  Minusha  \n"
     ]
    }
   ],
   "source": [
    "name = input(\"Enter your name: \")\n",
    "\n",
    "for n in range(4):\n",
    "    for n in range(3):\n",
    "        print(name + \" \", end = ' ')\n",
    "    print()"
   ]
  },
  {
   "cell_type": "code",
   "execution_count": 31,
   "id": "9bf6f0de",
   "metadata": {},
   "outputs": [
    {
     "name": "stdout",
     "output_type": "stream",
     "text": [
      "*\n",
      "**\n",
      "***\n",
      "****\n",
      "*****\n"
     ]
    }
   ],
   "source": [
    "for row in range(1,6):\n",
    "    for col in range(1, row + 1):\n",
    "        print(\"*\", end = '')\n",
    "    print()"
   ]
  },
  {
   "cell_type": "code",
   "execution_count": 32,
   "id": "eaea2546",
   "metadata": {},
   "outputs": [
    {
     "name": "stdout",
     "output_type": "stream",
     "text": [
      "*\n",
      "**\n",
      "***\n",
      "****\n",
      "*****\n",
      "****\n",
      "***\n",
      "**\n",
      "*\n",
      "\n",
      "\n"
     ]
    }
   ],
   "source": [
    "for row in range(1,6):\n",
    "    for col in range(1, row + 1):\n",
    "        print(\"*\", end = '')\n",
    "    print()\n",
    "    \n",
    "for row in range(6, 0, -1):\n",
    "    for col in range(1, row - 1):\n",
    "        print(\"*\", end = '')\n",
    "    print()"
   ]
  },
  {
   "cell_type": "code",
   "execution_count": 33,
   "id": "46dc7ec8",
   "metadata": {},
   "outputs": [
    {
     "name": "stdout",
     "output_type": "stream",
     "text": [
      "1\n",
      "12\n",
      "123\n",
      "1234\n",
      "12345\n"
     ]
    }
   ],
   "source": [
    "for row in range(1,6):\n",
    "    for col in range(1, row + 1):\n",
    "        print(col, end = '')\n",
    "    print()"
   ]
  },
  {
   "cell_type": "code",
   "execution_count": 34,
   "id": "5ea5fe4d",
   "metadata": {},
   "outputs": [
    {
     "name": "stdout",
     "output_type": "stream",
     "text": [
      "1\n",
      "22\n",
      "333\n",
      "4444\n",
      "55555\n"
     ]
    }
   ],
   "source": [
    "for row in range(1,6):\n",
    "    for col in range(1, row + 1):\n",
    "        print(row, end = '')\n",
    "    print()"
   ]
  },
  {
   "cell_type": "markdown",
   "id": "c6a74f16",
   "metadata": {},
   "source": [
    "## Tuple"
   ]
  },
  {
   "cell_type": "code",
   "execution_count": 40,
   "id": "009a3bf5",
   "metadata": {},
   "outputs": [
    {
     "name": "stdout",
     "output_type": "stream",
     "text": [
      "(10, 20, 30)\n",
      "('one', 'two', 'three')\n"
     ]
    }
   ],
   "source": [
    "tup1 = () #empty tuple\n",
    "tup2 = (10,20,30) #tuple with integer numbers\n",
    "print(tup2)\n",
    "tup3 = ('one','two','three')\n",
    "print(tup3)"
   ]
  },
  {
   "cell_type": "code",
   "execution_count": 41,
   "id": "e9eb4969",
   "metadata": {},
   "outputs": [
    {
     "name": "stdout",
     "output_type": "stream",
     "text": [
      "red\n",
      "green\n",
      "blue\n"
     ]
    }
   ],
   "source": [
    "mytuple = ('red', 'green', 'blue')\n",
    "for x in mytuple:\n",
    "    print(x)"
   ]
  },
  {
   "cell_type": "code",
   "execution_count": 42,
   "id": "ff7aef6b",
   "metadata": {},
   "outputs": [
    {
     "name": "stdout",
     "output_type": "stream",
     "text": [
      "(0, 'red')\n",
      "(1, 'green')\n",
      "(2, 'blue')\n"
     ]
    }
   ],
   "source": [
    "#go with index\n",
    "mytuple = ('red', 'green', 'blue')\n",
    "for x in enumerate (mytuple):\n",
    "    print(x)"
   ]
  },
  {
   "cell_type": "code",
   "execution_count": 43,
   "id": "780a1d19",
   "metadata": {},
   "outputs": [
    {
     "name": "stdout",
     "output_type": "stream",
     "text": [
      "Version 3.11.5 | packaged by Anaconda, Inc. | (main, Sep 11 2023, 13:26:23) [MSC v.1916 64 bit (AMD64)]\n",
      "Current Date and Time is:  2024-04-24 19:43:34.297605\n",
      "Enter First Name: Minusha\n",
      "Enter Last Name: Attygala\n",
      "Attygala Minusha\n",
      "Enter comma-seperated numbers: 2,4,3,6,10,16,5\n",
      "List:  [2, 4, 3, 6, 10, 16, 5]\n",
      "Tuple:  (2, 4, 3, 6, 10, 16, 5)\n"
     ]
    }
   ],
   "source": [
    "# Activity:\n",
    "\n",
    "# Q1\n",
    "import sys\n",
    "print(\"Version\",sys.version)\n",
    "\n",
    "# Q2\n",
    "from datetime import datetime\n",
    "current_dt = datetime.now()\n",
    "print(\"Current Date and Time is: \",current_dt)\n",
    "\n",
    "# Q3\n",
    "firstname = input(\"Enter First Name: \")\n",
    "lastname = input(\"Enter Last Name: \")\n",
    "rn = lastname+\" \"+firstname\n",
    "print(rn)\n",
    "\n",
    "# Q4\n",
    "input_num = input(\"Enter comma-seperated numbers: \")\n",
    "num_list = [int(num) for num in input_num.split(',')]\n",
    "print(\"List: \",num_list)\n",
    "num_tuple = tuple(num_list)\n",
    "print(\"Tuple: \",num_tuple)"
   ]
  },
  {
   "cell_type": "markdown",
   "id": "9f08abe8",
   "metadata": {},
   "source": [
    "## Dictionaries"
   ]
  },
  {
   "cell_type": "code",
   "execution_count": 46,
   "id": "9d57a75d",
   "metadata": {},
   "outputs": [
    {
     "name": "stdout",
     "output_type": "stream",
     "text": [
      "{'name': 'Minusha', 'age': 23}\n"
     ]
    }
   ],
   "source": [
    "Details = dict()\n",
    "Details['name'] = \"Minusha\"\n",
    "Details['age'] = 23\n",
    "print(Details)"
   ]
  },
  {
   "cell_type": "markdown",
   "id": "4b94702d",
   "metadata": {},
   "source": [
    "## Sets"
   ]
  },
  {
   "cell_type": "code",
   "execution_count": 47,
   "id": "930fc6aa",
   "metadata": {},
   "outputs": [
    {
     "name": "stdout",
     "output_type": "stream",
     "text": [
      "eric   17\n",
      "ever   4\n"
     ]
    }
   ],
   "source": [
    "fav_numbers = {'eric':17, 'ever':4}\n",
    "for name, numbers in fav_numbers.items():\n",
    "    print(name, \" \", str(numbers))"
   ]
  },
  {
   "cell_type": "code",
   "execution_count": 48,
   "id": "039b60cb",
   "metadata": {},
   "outputs": [
    {
     "name": "stdout",
     "output_type": "stream",
     "text": [
      "1\n",
      "3\n",
      "5\n",
      "7\n",
      "9\n"
     ]
    }
   ],
   "source": [
    "myset = {1,3,5,7,9} #set of numbers\n",
    "for i in myset:\n",
    " print(i)"
   ]
  },
  {
   "cell_type": "code",
   "execution_count": 49,
   "id": "7295f858",
   "metadata": {},
   "outputs": [
    {
     "name": "stdout",
     "output_type": "stream",
     "text": [
      "{1, 2, 4, 5, 6, 7, 8}\n",
      "{1, 2, 4, 5, 6, 7, 8}\n",
      "{4, 5, 7}\n",
      "{4, 5, 7}\n",
      "{1, 2}\n",
      "{1, 2, 6, 8}\n"
     ]
    }
   ],
   "source": [
    "# Union\n",
    "first_set = {1,5,7,4,2}\n",
    "second_set = {4,5,6,7,8}\n",
    "new_set = first_set|second_set\n",
    "print(new_set)\n",
    "\n",
    "# or\n",
    "\n",
    "first_set = {1,5,7,4,2}\n",
    "second_set = {4,5,6,7,8}\n",
    "new_set = first_set.union(second_set)\n",
    "print(new_set)\n",
    "\n",
    "# Intersection\n",
    "first_set = {1,5,7,4,2}\n",
    "second_set = {4,5,6,7,8}\n",
    "new_set = first_set&second_set\n",
    "print(new_set)\n",
    "\n",
    "# or\n",
    "\n",
    "first_set = {1,5,7,4,2}\n",
    "second_set = {4,5,6,7,8}\n",
    "new_set = first_set.intersection(second_set)\n",
    "print(new_set)\n",
    "\n",
    "# Difference\n",
    "first_set = {1,5,7,4,2}\n",
    "second_set = {4,5,6,7,8}\n",
    "new_set = first_set.difference(second_set)\n",
    "print(new_set)\n",
    "\n",
    "# Symettric Difference\n",
    "first_set = {1,5,7,4,2}\n",
    "second_set = {4,5,6,7,8}\n",
    "new_set = first_set.symmetric_difference(second_set)\n",
    "print(new_set)"
   ]
  },
  {
   "cell_type": "code",
   "execution_count": 50,
   "id": "c2811b46",
   "metadata": {},
   "outputs": [
    {
     "name": "stdout",
     "output_type": "stream",
     "text": [
      "1\n",
      "6\n"
     ]
    }
   ],
   "source": [
    "# Activity 3\n",
    "\n",
    "# Q1\n",
    "def findMin(numbers):\n",
    "    if not numbers:\n",
    "        return \"List is Empty\"\n",
    "    small_num = min(numbers)\n",
    "    return small_num\n",
    "num_list = [11, 16, 1, 10, 9, 20]\n",
    "small = findMin(num_list)\n",
    "print(small)\n",
    "\n",
    "# Q2\n",
    "def wordCount(str):\n",
    "    words = str.split();\n",
    "    num_words = len(words)\n",
    "    return num_words\n",
    "sen = \"Welcome to Introduction to Programming Module\"\n",
    "count = wordCount(sen)\n",
    "print(count)"
   ]
  },
  {
   "cell_type": "markdown",
   "id": "32d479c5",
   "metadata": {},
   "source": [
    "## lambda function"
   ]
  },
  {
   "cell_type": "code",
   "execution_count": 51,
   "id": "32c6b95a",
   "metadata": {},
   "outputs": [
    {
     "name": "stdout",
     "output_type": "stream",
     "text": [
      "15\n"
     ]
    }
   ],
   "source": [
    "x = lambda a:a+10\n",
    "print(x(5))"
   ]
  },
  {
   "cell_type": "code",
   "execution_count": 52,
   "id": "7998ea73",
   "metadata": {},
   "outputs": [
    {
     "name": "stdout",
     "output_type": "stream",
     "text": [
      "22\n"
     ]
    }
   ],
   "source": [
    "# Add 3 numbers \n",
    "y = lambda p,q,r:p+q+r\n",
    "print(y(5,8,9))"
   ]
  },
  {
   "cell_type": "markdown",
   "id": "7473efcc",
   "metadata": {},
   "source": [
    "#### Q1. Checks if a user-input year is a leap year or not"
   ]
  },
  {
   "cell_type": "code",
   "execution_count": 53,
   "id": "ef26f433",
   "metadata": {},
   "outputs": [
    {
     "name": "stdout",
     "output_type": "stream",
     "text": [
      "Enter a year: 2020\n",
      "2020 is a leap year.\n"
     ]
    }
   ],
   "source": [
    "year = int(input(\"Enter a year: \"))\n",
    "\n",
    "# Check if the year is a leap year\n",
    "if (year % 4 == 0 and year % 100 != 0) or (year % 400 == 0):\n",
    "    print(f\"{year} is a leap year.\")\n",
    "else:\n",
    "    print(f\"{year} is not a leap year.\")"
   ]
  },
  {
   "cell_type": "markdown",
   "id": "38cf27d1",
   "metadata": {},
   "source": [
    "#### Q2. Count the number of even numbers in the given list of natural numbers"
   ]
  },
  {
   "cell_type": "code",
   "execution_count": 54,
   "id": "dee0c344",
   "metadata": {},
   "outputs": [
    {
     "name": "stdout",
     "output_type": "stream",
     "text": [
      "Number of even numbers in the list: 3\n"
     ]
    }
   ],
   "source": [
    "numbers = [11, 16, 1, 10, 9, 20]\n",
    "\n",
    "# Initialize a variable to count the number of even numbers\n",
    "even_count = 0\n",
    "\n",
    "# Iterate through the list\n",
    "for num in numbers:\n",
    "    # Check if the number is even\n",
    "    if num % 2 == 0:\n",
    "        even_count += 1\n",
    "\n",
    "# Print the count of even numbers\n",
    "print(\"Number of even numbers in the list:\", even_count)"
   ]
  },
  {
   "cell_type": "markdown",
   "id": "72a38dfd",
   "metadata": {},
   "source": [
    "#### Q3. Find the smallest number in the given list"
   ]
  },
  {
   "cell_type": "code",
   "execution_count": 18,
   "id": "030a197a",
   "metadata": {},
   "outputs": [
    {
     "data": {
      "text/plain": [
       "1"
      ]
     },
     "execution_count": 18,
     "metadata": {},
     "output_type": "execute_result"
    }
   ],
   "source": [
    "numbers = [11, 16, 1, 10, 9, 20]\n",
    "\n",
    "# Find the smallest number in the list using the min() function\n",
    "smallest_number = min(numbers)\n",
    "\n",
    "smallest_number"
   ]
  }
 ],
 "metadata": {
  "kernelspec": {
   "display_name": "Python 3 (ipykernel)",
   "language": "python",
   "name": "python3"
  },
  "language_info": {
   "codemirror_mode": {
    "name": "ipython",
    "version": 3
   },
   "file_extension": ".py",
   "mimetype": "text/x-python",
   "name": "python",
   "nbconvert_exporter": "python",
   "pygments_lexer": "ipython3",
   "version": "3.11.5"
  }
 },
 "nbformat": 4,
 "nbformat_minor": 5
}
