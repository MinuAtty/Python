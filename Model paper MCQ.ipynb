{
 "cells": [
  {
   "cell_type": "markdown",
   "id": "aeb5ccd5",
   "metadata": {},
   "source": [
    "## Q1: All keywords in Python are in,"
   ]
  },
  {
   "cell_type": "markdown",
   "id": "34d81340",
   "metadata": {},
   "source": [
    "### b) lowercase\n",
    "\n",
    "### In Python, keywords are case-sensitive and are written in lowercase. These keywords are reserved and have special meanings within the Python language. Examples of keywords include if, else, for, while, def, class, import, etc."
   ]
  },
  {
   "cell_type": "markdown",
   "id": "ecfd579e",
   "metadata": {},
   "source": [
    "## Q2: We want to accumulate the total sum of a list of numbers, "
   ]
  },
  {
   "cell_type": "code",
   "execution_count": 1,
   "id": "1a2aefb9",
   "metadata": {},
   "outputs": [
    {
     "data": {
      "text/plain": [
       "112"
      ]
     },
     "execution_count": 1,
     "metadata": {},
     "output_type": "execute_result"
    }
   ],
   "source": [
    "def find_sum():\n",
    "    nums = [4, 5, 2, 93, 3, 5]\n",
    "    s = 0\n",
    "    for n in nums:\n",
    "        s = s + n\n",
    "    return s\n",
    "find_sum()"
   ]
  },
  {
   "cell_type": "markdown",
   "id": "a487acbb",
   "metadata": {},
   "source": [
    "## Q3: What is the Python syntax output?"
   ]
  },
  {
   "cell_type": "code",
   "execution_count": 2,
   "id": "de4b0259",
   "metadata": {},
   "outputs": [
    {
     "name": "stdout",
     "output_type": "stream",
     "text": [
      "['cat', [56, 57, 'dog']]\n"
     ]
    }
   ],
   "source": [
    "def slice_exercise():\n",
    "    alist = [3, 67, \"cat\", [56, 57, \"dog\"], [ ], 3.14, False]\n",
    "    print(alist[2:4])\n",
    "slice_exercise()"
   ]
  },
  {
   "cell_type": "markdown",
   "id": "9c7c39aa",
   "metadata": {},
   "source": [
    "## Q4: Find the output of the following,"
   ]
  },
  {
   "cell_type": "code",
   "execution_count": 3,
   "id": "5a5144e7",
   "metadata": {},
   "outputs": [
    {
     "name": "stdout",
     "output_type": "stream",
     "text": [
      "1 : 900\n",
      "1900\n",
      "2 : 2200\n",
      "3200\n",
      "3 : 3600\n",
      "4600\n"
     ]
    }
   ],
   "source": [
    "L1 = [100,900,300,400,500] \n",
    "START = 1 \n",
    "SUM = 0 \n",
    "\n",
    "for C in range(START,4): \n",
    "    SUM = SUM + L1[C] \n",
    "    print(C, \":\", SUM) \n",
    "    SUM = SUM + L1[0]*10 \n",
    "    print(SUM)"
   ]
  },
  {
   "cell_type": "markdown",
   "id": "8f22c1cf",
   "metadata": {},
   "source": [
    "## Q5: What will be the output of the following Python code?"
   ]
  },
  {
   "cell_type": "code",
   "execution_count": 4,
   "id": "566928e7",
   "metadata": {},
   "outputs": [
    {
     "name": "stdout",
     "output_type": "stream",
     "text": [
      "1\n",
      "2\n"
     ]
    }
   ],
   "source": [
    "i = 1\n",
    "while True:\n",
    "    if i%3 == 0:\n",
    "        break\n",
    "    print(i) \n",
    "    i += 1"
   ]
  },
  {
   "cell_type": "markdown",
   "id": "c9f2f8ac",
   "metadata": {},
   "source": [
    "## Q6: What will be the value of the following Python expression?"
   ]
  },
  {
   "cell_type": "code",
   "execution_count": 5,
   "id": "dd8f18b5",
   "metadata": {},
   "outputs": [
    {
     "data": {
      "text/plain": [
       "7"
      ]
     },
     "execution_count": 5,
     "metadata": {},
     "output_type": "execute_result"
    }
   ],
   "source": [
    "4 + 3 % 5"
   ]
  },
  {
   "cell_type": "markdown",
   "id": "4a102c45",
   "metadata": {},
   "source": [
    "## Q7: You are creating a Python program that shows a congratulatory message to employees on their service anniversary. You need to calculate the number of years of service and print a congratulatory message."
   ]
  },
  {
   "cell_type": "code",
   "execution_count": 6,
   "id": "231dbcd3",
   "metadata": {},
   "outputs": [
    {
     "name": "stdout",
     "output_type": "stream",
     "text": [
      "How old were you on your start date?2\n",
      "How old are you today23\n",
      "Congratulations on 21 years of service!\n"
     ]
    }
   ],
   "source": [
    "start = input(\"How old were you on your start date?\")\n",
    "End = input(\"How old are you today\")\n",
    "print(\"Congratulations on \" + str(int(End)-int(start)) + \" years of service!\")"
   ]
  },
  {
   "cell_type": "markdown",
   "id": "b3f141d1",
   "metadata": {},
   "source": [
    "## Q8: You develop a Python application for your company. A list named students contains 200 students names, the last five being admin members. You need to slice the list to display all students excluding admin staff."
   ]
  },
  {
   "cell_type": "code",
   "execution_count": 7,
   "id": "cf433400",
   "metadata": {},
   "outputs": [],
   "source": [
    "import pandas as pd"
   ]
  },
  {
   "cell_type": "code",
   "execution_count": 8,
   "id": "8ffa30d7",
   "metadata": {},
   "outputs": [],
   "source": [
    "df = pd.read_csv(r\"datasets\\employees.csv\")"
   ]
  },
  {
   "cell_type": "code",
   "execution_count": 9,
   "id": "1128efee",
   "metadata": {},
   "outputs": [
    {
     "data": {
      "text/html": [
       "<div>\n",
       "<style scoped>\n",
       "    .dataframe tbody tr th:only-of-type {\n",
       "        vertical-align: middle;\n",
       "    }\n",
       "\n",
       "    .dataframe tbody tr th {\n",
       "        vertical-align: top;\n",
       "    }\n",
       "\n",
       "    .dataframe thead th {\n",
       "        text-align: right;\n",
       "    }\n",
       "</style>\n",
       "<table border=\"1\" class=\"dataframe\">\n",
       "  <thead>\n",
       "    <tr style=\"text-align: right;\">\n",
       "      <th></th>\n",
       "      <th>First Name</th>\n",
       "      <th>Gender</th>\n",
       "      <th>Start Date</th>\n",
       "      <th>Last Login Time</th>\n",
       "      <th>Salary</th>\n",
       "      <th>Bonus %</th>\n",
       "      <th>Senior Management</th>\n",
       "      <th>Team</th>\n",
       "    </tr>\n",
       "  </thead>\n",
       "  <tbody>\n",
       "    <tr>\n",
       "      <th>0</th>\n",
       "      <td>Douglas</td>\n",
       "      <td>Male</td>\n",
       "      <td>8/6/1993</td>\n",
       "      <td>12:42 PM</td>\n",
       "      <td>97308</td>\n",
       "      <td>6.945</td>\n",
       "      <td>True</td>\n",
       "      <td>Marketing</td>\n",
       "    </tr>\n",
       "    <tr>\n",
       "      <th>1</th>\n",
       "      <td>Thomas</td>\n",
       "      <td>Male</td>\n",
       "      <td>3/31/1996</td>\n",
       "      <td>6:53 AM</td>\n",
       "      <td>61933</td>\n",
       "      <td>4.170</td>\n",
       "      <td>True</td>\n",
       "      <td>NaN</td>\n",
       "    </tr>\n",
       "    <tr>\n",
       "      <th>2</th>\n",
       "      <td>Maria</td>\n",
       "      <td>Female</td>\n",
       "      <td>4/23/1993</td>\n",
       "      <td>11:17 AM</td>\n",
       "      <td>130590</td>\n",
       "      <td>11.858</td>\n",
       "      <td>False</td>\n",
       "      <td>Finance</td>\n",
       "    </tr>\n",
       "    <tr>\n",
       "      <th>3</th>\n",
       "      <td>Jerry</td>\n",
       "      <td>Male</td>\n",
       "      <td>3/4/2005</td>\n",
       "      <td>1:00 PM</td>\n",
       "      <td>138705</td>\n",
       "      <td>9.340</td>\n",
       "      <td>True</td>\n",
       "      <td>Finance</td>\n",
       "    </tr>\n",
       "    <tr>\n",
       "      <th>4</th>\n",
       "      <td>Larry</td>\n",
       "      <td>Male</td>\n",
       "      <td>1/24/1998</td>\n",
       "      <td>4:47 PM</td>\n",
       "      <td>101004</td>\n",
       "      <td>1.389</td>\n",
       "      <td>True</td>\n",
       "      <td>Client Services</td>\n",
       "    </tr>\n",
       "    <tr>\n",
       "      <th>...</th>\n",
       "      <td>...</td>\n",
       "      <td>...</td>\n",
       "      <td>...</td>\n",
       "      <td>...</td>\n",
       "      <td>...</td>\n",
       "      <td>...</td>\n",
       "      <td>...</td>\n",
       "      <td>...</td>\n",
       "    </tr>\n",
       "    <tr>\n",
       "      <th>995</th>\n",
       "      <td>Henry</td>\n",
       "      <td>NaN</td>\n",
       "      <td>11/23/2014</td>\n",
       "      <td>6:09 AM</td>\n",
       "      <td>132483</td>\n",
       "      <td>16.655</td>\n",
       "      <td>False</td>\n",
       "      <td>Distribution</td>\n",
       "    </tr>\n",
       "    <tr>\n",
       "      <th>996</th>\n",
       "      <td>Phillip</td>\n",
       "      <td>Male</td>\n",
       "      <td>1/31/1984</td>\n",
       "      <td>6:30 AM</td>\n",
       "      <td>42392</td>\n",
       "      <td>19.675</td>\n",
       "      <td>False</td>\n",
       "      <td>Finance</td>\n",
       "    </tr>\n",
       "    <tr>\n",
       "      <th>997</th>\n",
       "      <td>Russell</td>\n",
       "      <td>Male</td>\n",
       "      <td>5/20/2013</td>\n",
       "      <td>12:39 PM</td>\n",
       "      <td>96914</td>\n",
       "      <td>1.421</td>\n",
       "      <td>False</td>\n",
       "      <td>Product</td>\n",
       "    </tr>\n",
       "    <tr>\n",
       "      <th>998</th>\n",
       "      <td>Larry</td>\n",
       "      <td>Male</td>\n",
       "      <td>4/20/2013</td>\n",
       "      <td>4:45 PM</td>\n",
       "      <td>60500</td>\n",
       "      <td>11.985</td>\n",
       "      <td>False</td>\n",
       "      <td>Business Development</td>\n",
       "    </tr>\n",
       "    <tr>\n",
       "      <th>999</th>\n",
       "      <td>Albert</td>\n",
       "      <td>Male</td>\n",
       "      <td>5/15/2012</td>\n",
       "      <td>6:24 PM</td>\n",
       "      <td>129949</td>\n",
       "      <td>10.169</td>\n",
       "      <td>True</td>\n",
       "      <td>Sales</td>\n",
       "    </tr>\n",
       "  </tbody>\n",
       "</table>\n",
       "<p>1000 rows × 8 columns</p>\n",
       "</div>"
      ],
      "text/plain": [
       "    First Name  Gender  Start Date Last Login Time  Salary  Bonus %  \\\n",
       "0      Douglas    Male    8/6/1993        12:42 PM   97308    6.945   \n",
       "1       Thomas    Male   3/31/1996         6:53 AM   61933    4.170   \n",
       "2        Maria  Female   4/23/1993        11:17 AM  130590   11.858   \n",
       "3        Jerry    Male    3/4/2005         1:00 PM  138705    9.340   \n",
       "4        Larry    Male   1/24/1998         4:47 PM  101004    1.389   \n",
       "..         ...     ...         ...             ...     ...      ...   \n",
       "995      Henry     NaN  11/23/2014         6:09 AM  132483   16.655   \n",
       "996    Phillip    Male   1/31/1984         6:30 AM   42392   19.675   \n",
       "997    Russell    Male   5/20/2013        12:39 PM   96914    1.421   \n",
       "998      Larry    Male   4/20/2013         4:45 PM   60500   11.985   \n",
       "999     Albert    Male   5/15/2012         6:24 PM  129949   10.169   \n",
       "\n",
       "    Senior Management                  Team  \n",
       "0                True             Marketing  \n",
       "1                True                   NaN  \n",
       "2               False               Finance  \n",
       "3                True               Finance  \n",
       "4                True       Client Services  \n",
       "..                ...                   ...  \n",
       "995             False          Distribution  \n",
       "996             False               Finance  \n",
       "997             False               Product  \n",
       "998             False  Business Development  \n",
       "999              True                 Sales  \n",
       "\n",
       "[1000 rows x 8 columns]"
      ]
     },
     "execution_count": 9,
     "metadata": {},
     "output_type": "execute_result"
    }
   ],
   "source": [
    "df"
   ]
  },
  {
   "cell_type": "code",
   "execution_count": 10,
   "id": "64b77908",
   "metadata": {},
   "outputs": [
    {
     "data": {
      "text/html": [
       "<div>\n",
       "<style scoped>\n",
       "    .dataframe tbody tr th:only-of-type {\n",
       "        vertical-align: middle;\n",
       "    }\n",
       "\n",
       "    .dataframe tbody tr th {\n",
       "        vertical-align: top;\n",
       "    }\n",
       "\n",
       "    .dataframe thead th {\n",
       "        text-align: right;\n",
       "    }\n",
       "</style>\n",
       "<table border=\"1\" class=\"dataframe\">\n",
       "  <thead>\n",
       "    <tr style=\"text-align: right;\">\n",
       "      <th></th>\n",
       "      <th>First Name</th>\n",
       "      <th>Gender</th>\n",
       "      <th>Start Date</th>\n",
       "      <th>Last Login Time</th>\n",
       "      <th>Salary</th>\n",
       "      <th>Bonus %</th>\n",
       "      <th>Senior Management</th>\n",
       "      <th>Team</th>\n",
       "    </tr>\n",
       "  </thead>\n",
       "  <tbody>\n",
       "    <tr>\n",
       "      <th>0</th>\n",
       "      <td>Douglas</td>\n",
       "      <td>Male</td>\n",
       "      <td>8/6/1993</td>\n",
       "      <td>12:42 PM</td>\n",
       "      <td>97308</td>\n",
       "      <td>6.945</td>\n",
       "      <td>True</td>\n",
       "      <td>Marketing</td>\n",
       "    </tr>\n",
       "    <tr>\n",
       "      <th>1</th>\n",
       "      <td>Thomas</td>\n",
       "      <td>Male</td>\n",
       "      <td>3/31/1996</td>\n",
       "      <td>6:53 AM</td>\n",
       "      <td>61933</td>\n",
       "      <td>4.170</td>\n",
       "      <td>True</td>\n",
       "      <td>NaN</td>\n",
       "    </tr>\n",
       "    <tr>\n",
       "      <th>2</th>\n",
       "      <td>Maria</td>\n",
       "      <td>Female</td>\n",
       "      <td>4/23/1993</td>\n",
       "      <td>11:17 AM</td>\n",
       "      <td>130590</td>\n",
       "      <td>11.858</td>\n",
       "      <td>False</td>\n",
       "      <td>Finance</td>\n",
       "    </tr>\n",
       "    <tr>\n",
       "      <th>3</th>\n",
       "      <td>Jerry</td>\n",
       "      <td>Male</td>\n",
       "      <td>3/4/2005</td>\n",
       "      <td>1:00 PM</td>\n",
       "      <td>138705</td>\n",
       "      <td>9.340</td>\n",
       "      <td>True</td>\n",
       "      <td>Finance</td>\n",
       "    </tr>\n",
       "    <tr>\n",
       "      <th>4</th>\n",
       "      <td>Larry</td>\n",
       "      <td>Male</td>\n",
       "      <td>1/24/1998</td>\n",
       "      <td>4:47 PM</td>\n",
       "      <td>101004</td>\n",
       "      <td>1.389</td>\n",
       "      <td>True</td>\n",
       "      <td>Client Services</td>\n",
       "    </tr>\n",
       "    <tr>\n",
       "      <th>...</th>\n",
       "      <td>...</td>\n",
       "      <td>...</td>\n",
       "      <td>...</td>\n",
       "      <td>...</td>\n",
       "      <td>...</td>\n",
       "      <td>...</td>\n",
       "      <td>...</td>\n",
       "      <td>...</td>\n",
       "    </tr>\n",
       "    <tr>\n",
       "      <th>990</th>\n",
       "      <td>Robin</td>\n",
       "      <td>Female</td>\n",
       "      <td>7/24/1987</td>\n",
       "      <td>1:35 PM</td>\n",
       "      <td>100765</td>\n",
       "      <td>10.982</td>\n",
       "      <td>True</td>\n",
       "      <td>Client Services</td>\n",
       "    </tr>\n",
       "    <tr>\n",
       "      <th>991</th>\n",
       "      <td>Rose</td>\n",
       "      <td>Female</td>\n",
       "      <td>8/25/2002</td>\n",
       "      <td>5:12 AM</td>\n",
       "      <td>134505</td>\n",
       "      <td>11.051</td>\n",
       "      <td>True</td>\n",
       "      <td>Marketing</td>\n",
       "    </tr>\n",
       "    <tr>\n",
       "      <th>992</th>\n",
       "      <td>Anthony</td>\n",
       "      <td>Male</td>\n",
       "      <td>10/16/2011</td>\n",
       "      <td>8:35 AM</td>\n",
       "      <td>112769</td>\n",
       "      <td>11.625</td>\n",
       "      <td>True</td>\n",
       "      <td>Finance</td>\n",
       "    </tr>\n",
       "    <tr>\n",
       "      <th>993</th>\n",
       "      <td>Tina</td>\n",
       "      <td>Female</td>\n",
       "      <td>5/15/1997</td>\n",
       "      <td>3:53 PM</td>\n",
       "      <td>56450</td>\n",
       "      <td>19.040</td>\n",
       "      <td>True</td>\n",
       "      <td>Engineering</td>\n",
       "    </tr>\n",
       "    <tr>\n",
       "      <th>994</th>\n",
       "      <td>George</td>\n",
       "      <td>Male</td>\n",
       "      <td>6/21/2013</td>\n",
       "      <td>5:47 PM</td>\n",
       "      <td>98874</td>\n",
       "      <td>4.479</td>\n",
       "      <td>True</td>\n",
       "      <td>Marketing</td>\n",
       "    </tr>\n",
       "  </tbody>\n",
       "</table>\n",
       "<p>995 rows × 8 columns</p>\n",
       "</div>"
      ],
      "text/plain": [
       "    First Name  Gender  Start Date Last Login Time  Salary  Bonus %  \\\n",
       "0      Douglas    Male    8/6/1993        12:42 PM   97308    6.945   \n",
       "1       Thomas    Male   3/31/1996         6:53 AM   61933    4.170   \n",
       "2        Maria  Female   4/23/1993        11:17 AM  130590   11.858   \n",
       "3        Jerry    Male    3/4/2005         1:00 PM  138705    9.340   \n",
       "4        Larry    Male   1/24/1998         4:47 PM  101004    1.389   \n",
       "..         ...     ...         ...             ...     ...      ...   \n",
       "990      Robin  Female   7/24/1987         1:35 PM  100765   10.982   \n",
       "991       Rose  Female   8/25/2002         5:12 AM  134505   11.051   \n",
       "992    Anthony    Male  10/16/2011         8:35 AM  112769   11.625   \n",
       "993       Tina  Female   5/15/1997         3:53 PM   56450   19.040   \n",
       "994     George    Male   6/21/2013         5:47 PM   98874    4.479   \n",
       "\n",
       "    Senior Management             Team  \n",
       "0                True        Marketing  \n",
       "1                True              NaN  \n",
       "2               False          Finance  \n",
       "3                True          Finance  \n",
       "4                True  Client Services  \n",
       "..                ...              ...  \n",
       "990              True  Client Services  \n",
       "991              True        Marketing  \n",
       "992              True          Finance  \n",
       "993              True      Engineering  \n",
       "994              True        Marketing  \n",
       "\n",
       "[995 rows x 8 columns]"
      ]
     },
     "execution_count": 10,
     "metadata": {},
     "output_type": "execute_result"
    }
   ],
   "source": [
    "df [0:-5]"
   ]
  },
  {
   "cell_type": "code",
   "execution_count": 11,
   "id": "66783d1f",
   "metadata": {},
   "outputs": [
    {
     "data": {
      "text/html": [
       "<div>\n",
       "<style scoped>\n",
       "    .dataframe tbody tr th:only-of-type {\n",
       "        vertical-align: middle;\n",
       "    }\n",
       "\n",
       "    .dataframe tbody tr th {\n",
       "        vertical-align: top;\n",
       "    }\n",
       "\n",
       "    .dataframe thead th {\n",
       "        text-align: right;\n",
       "    }\n",
       "</style>\n",
       "<table border=\"1\" class=\"dataframe\">\n",
       "  <thead>\n",
       "    <tr style=\"text-align: right;\">\n",
       "      <th></th>\n",
       "      <th>First Name</th>\n",
       "      <th>Gender</th>\n",
       "      <th>Start Date</th>\n",
       "      <th>Last Login Time</th>\n",
       "      <th>Salary</th>\n",
       "      <th>Bonus %</th>\n",
       "      <th>Senior Management</th>\n",
       "      <th>Team</th>\n",
       "    </tr>\n",
       "  </thead>\n",
       "  <tbody>\n",
       "    <tr>\n",
       "      <th>0</th>\n",
       "      <td>Douglas</td>\n",
       "      <td>Male</td>\n",
       "      <td>8/6/1993</td>\n",
       "      <td>12:42 PM</td>\n",
       "      <td>97308</td>\n",
       "      <td>6.945</td>\n",
       "      <td>True</td>\n",
       "      <td>Marketing</td>\n",
       "    </tr>\n",
       "    <tr>\n",
       "      <th>1</th>\n",
       "      <td>Thomas</td>\n",
       "      <td>Male</td>\n",
       "      <td>3/31/1996</td>\n",
       "      <td>6:53 AM</td>\n",
       "      <td>61933</td>\n",
       "      <td>4.170</td>\n",
       "      <td>True</td>\n",
       "      <td>NaN</td>\n",
       "    </tr>\n",
       "    <tr>\n",
       "      <th>2</th>\n",
       "      <td>Maria</td>\n",
       "      <td>Female</td>\n",
       "      <td>4/23/1993</td>\n",
       "      <td>11:17 AM</td>\n",
       "      <td>130590</td>\n",
       "      <td>11.858</td>\n",
       "      <td>False</td>\n",
       "      <td>Finance</td>\n",
       "    </tr>\n",
       "    <tr>\n",
       "      <th>3</th>\n",
       "      <td>Jerry</td>\n",
       "      <td>Male</td>\n",
       "      <td>3/4/2005</td>\n",
       "      <td>1:00 PM</td>\n",
       "      <td>138705</td>\n",
       "      <td>9.340</td>\n",
       "      <td>True</td>\n",
       "      <td>Finance</td>\n",
       "    </tr>\n",
       "    <tr>\n",
       "      <th>4</th>\n",
       "      <td>Larry</td>\n",
       "      <td>Male</td>\n",
       "      <td>1/24/1998</td>\n",
       "      <td>4:47 PM</td>\n",
       "      <td>101004</td>\n",
       "      <td>1.389</td>\n",
       "      <td>True</td>\n",
       "      <td>Client Services</td>\n",
       "    </tr>\n",
       "    <tr>\n",
       "      <th>...</th>\n",
       "      <td>...</td>\n",
       "      <td>...</td>\n",
       "      <td>...</td>\n",
       "      <td>...</td>\n",
       "      <td>...</td>\n",
       "      <td>...</td>\n",
       "      <td>...</td>\n",
       "      <td>...</td>\n",
       "    </tr>\n",
       "    <tr>\n",
       "      <th>990</th>\n",
       "      <td>Robin</td>\n",
       "      <td>Female</td>\n",
       "      <td>7/24/1987</td>\n",
       "      <td>1:35 PM</td>\n",
       "      <td>100765</td>\n",
       "      <td>10.982</td>\n",
       "      <td>True</td>\n",
       "      <td>Client Services</td>\n",
       "    </tr>\n",
       "    <tr>\n",
       "      <th>991</th>\n",
       "      <td>Rose</td>\n",
       "      <td>Female</td>\n",
       "      <td>8/25/2002</td>\n",
       "      <td>5:12 AM</td>\n",
       "      <td>134505</td>\n",
       "      <td>11.051</td>\n",
       "      <td>True</td>\n",
       "      <td>Marketing</td>\n",
       "    </tr>\n",
       "    <tr>\n",
       "      <th>992</th>\n",
       "      <td>Anthony</td>\n",
       "      <td>Male</td>\n",
       "      <td>10/16/2011</td>\n",
       "      <td>8:35 AM</td>\n",
       "      <td>112769</td>\n",
       "      <td>11.625</td>\n",
       "      <td>True</td>\n",
       "      <td>Finance</td>\n",
       "    </tr>\n",
       "    <tr>\n",
       "      <th>993</th>\n",
       "      <td>Tina</td>\n",
       "      <td>Female</td>\n",
       "      <td>5/15/1997</td>\n",
       "      <td>3:53 PM</td>\n",
       "      <td>56450</td>\n",
       "      <td>19.040</td>\n",
       "      <td>True</td>\n",
       "      <td>Engineering</td>\n",
       "    </tr>\n",
       "    <tr>\n",
       "      <th>994</th>\n",
       "      <td>George</td>\n",
       "      <td>Male</td>\n",
       "      <td>6/21/2013</td>\n",
       "      <td>5:47 PM</td>\n",
       "      <td>98874</td>\n",
       "      <td>4.479</td>\n",
       "      <td>True</td>\n",
       "      <td>Marketing</td>\n",
       "    </tr>\n",
       "  </tbody>\n",
       "</table>\n",
       "<p>995 rows × 8 columns</p>\n",
       "</div>"
      ],
      "text/plain": [
       "    First Name  Gender  Start Date Last Login Time  Salary  Bonus %  \\\n",
       "0      Douglas    Male    8/6/1993        12:42 PM   97308    6.945   \n",
       "1       Thomas    Male   3/31/1996         6:53 AM   61933    4.170   \n",
       "2        Maria  Female   4/23/1993        11:17 AM  130590   11.858   \n",
       "3        Jerry    Male    3/4/2005         1:00 PM  138705    9.340   \n",
       "4        Larry    Male   1/24/1998         4:47 PM  101004    1.389   \n",
       "..         ...     ...         ...             ...     ...      ...   \n",
       "990      Robin  Female   7/24/1987         1:35 PM  100765   10.982   \n",
       "991       Rose  Female   8/25/2002         5:12 AM  134505   11.051   \n",
       "992    Anthony    Male  10/16/2011         8:35 AM  112769   11.625   \n",
       "993       Tina  Female   5/15/1997         3:53 PM   56450   19.040   \n",
       "994     George    Male   6/21/2013         5:47 PM   98874    4.479   \n",
       "\n",
       "    Senior Management             Team  \n",
       "0                True        Marketing  \n",
       "1                True              NaN  \n",
       "2               False          Finance  \n",
       "3                True          Finance  \n",
       "4                True  Client Services  \n",
       "..                ...              ...  \n",
       "990              True  Client Services  \n",
       "991              True        Marketing  \n",
       "992              True          Finance  \n",
       "993              True      Engineering  \n",
       "994              True        Marketing  \n",
       "\n",
       "[995 rows x 8 columns]"
      ]
     },
     "execution_count": 11,
     "metadata": {},
     "output_type": "execute_result"
    }
   ],
   "source": [
    "df [:-5]"
   ]
  },
  {
   "cell_type": "markdown",
   "id": "dc8483fd",
   "metadata": {},
   "source": [
    "## Q9: Finding out whether the user input string is a palindrome or not?"
   ]
  },
  {
   "cell_type": "code",
   "execution_count": 12,
   "id": "17e1deb8",
   "metadata": {},
   "outputs": [
    {
     "name": "stdout",
     "output_type": "stream",
     "text": [
      "Enter a string: radar\n",
      "The input string is a palindrome.\n"
     ]
    }
   ],
   "source": [
    "# Function to check if a string is a palindrome\n",
    "def isPalindrome(s):\n",
    "    # Check if the string is equal to its reverse\n",
    "    return s == s[::-1]\n",
    "\n",
    "# Example usage:\n",
    "input_string = input(\"Enter a string: \")\n",
    "if isPalindrome(input_string):\n",
    "    print(\"The input string is a palindrome.\")\n",
    "else:\n",
    "    print(\"The input string is not a palindrome.\")"
   ]
  },
  {
   "cell_type": "markdown",
   "id": "f1af7c50",
   "metadata": {},
   "source": [
    "## Q10: What will be the output of the following Python code?"
   ]
  },
  {
   "cell_type": "code",
   "execution_count": 13,
   "id": "d3092e90",
   "metadata": {},
   "outputs": [
    {
     "data": {
      "text/plain": [
       "[1, 2, 'hello']"
      ]
     },
     "execution_count": 13,
     "metadata": {},
     "output_type": "execute_result"
    }
   ],
   "source": [
    "l = [1, 0, 2, 0, 'hello', '', []]\n",
    "list(filter(bool, l))"
   ]
  },
  {
   "cell_type": "markdown",
   "id": "93d8939d",
   "metadata": {},
   "source": [
    "## Q11:\tWhich plot gives summarized statistics in a data visualization?"
   ]
  },
  {
   "cell_type": "markdown",
   "id": "05f76038",
   "metadata": {},
   "source": [
    "### d) Box Plot\n",
    "\n",
    "### A box plot, also known as a box-and-whisker plot, displays the distribution of a dataset based on a five-number summary: minimum, first quartile (Q1), median (second quartile or Q2), third quartile (Q3), and maximum. These statistics provide a summary of the central tendency, spread, and skewness of the data, making box plots useful for visualizing summarized statistics."
   ]
  },
  {
   "cell_type": "markdown",
   "id": "4a331397",
   "metadata": {},
   "source": [
    "## Q12:\tTo identify the relationship between 2 numerical variables Sales and market value"
   ]
  },
  {
   "cell_type": "markdown",
   "id": "e1ff750f",
   "metadata": {},
   "source": [
    "### b) Scatter plot\n",
    "\n",
    "### A scatter plot is used to visualize the relationship between two numerical variables by plotting data points on a Cartesian coordinate system, where each point represents an observation with values for both variables. This allows you to visually assess the correlation, trend, and pattern between the variables."
   ]
  },
  {
   "cell_type": "markdown",
   "id": "d4bffc7e",
   "metadata": {},
   "source": [
    "## Q13:\tTo identify the distribution of sales for each country in one plot."
   ]
  },
  {
   "cell_type": "markdown",
   "id": "367fd8b0",
   "metadata": {},
   "source": [
    "### d) Violin plot\n",
    "\n",
    "### A violin plot is effective for visualizing the distribution of a numerical variable (sales) across different categories (countries) simultaneously. It displays the distribution of the data as a kernel density plot mirrored on each side of a central box plot, providing insights into the shape, spread, and central tendency of the sales distribution for each country."
   ]
  },
  {
   "cell_type": "markdown",
   "id": "73a9e375",
   "metadata": {},
   "source": [
    "## Q14: Finding if a given number is prime or not? Consider the input number as 23."
   ]
  },
  {
   "cell_type": "code",
   "execution_count": 14,
   "id": "e85dff64",
   "metadata": {},
   "outputs": [
    {
     "name": "stdout",
     "output_type": "stream",
     "text": [
      "enter a number: 2\n",
      "2 is a prime number\n"
     ]
    }
   ],
   "source": [
    "num = int(input(\"enter a number: \"))\n",
    "flag = False\n",
    "if num > 1:\n",
    "    for i in range(2, num):\n",
    "        if (num % i) == 0:\n",
    "            flag = True\n",
    "            break\n",
    "\n",
    "if flag:\n",
    "    print(num, \"is not a prime number\")\n",
    "else:\n",
    "    print(num, \"is a prime number\")\n"
   ]
  },
  {
   "cell_type": "markdown",
   "id": "df082cff",
   "metadata": {},
   "source": [
    "## Q15:\tWhat is the output?"
   ]
  },
  {
   "cell_type": "code",
   "execution_count": 15,
   "id": "e21a8364",
   "metadata": {},
   "outputs": [
    {
     "data": {
      "text/plain": [
       "(786, 2.23)"
      ]
     },
     "execution_count": 15,
     "metadata": {},
     "output_type": "execute_result"
    }
   ],
   "source": [
    "tuple = ( 'abcd', 786 , 2.23, 'john', 70.2 )\n",
    "tuple[1:3]"
   ]
  },
  {
   "cell_type": "markdown",
   "id": "9edada44",
   "metadata": {},
   "source": [
    "## Q16:\tWhat library in Python is commonly used for statistical analysis and hypothesis testing?"
   ]
  },
  {
   "cell_type": "markdown",
   "id": "d1c527ca",
   "metadata": {},
   "source": [
    "### b) SciPy\n",
    "\n",
    "### While all of the libraries listed have some capabilities related to statistical analysis and hypothesis testing, SciPy is specifically designed to provide scientific computing functionalities, including statistical functions, probability distributions, and hypothesis tests. It builds on top of NumPy and provides additional functionality for scientific and numerical computing, making it a common choice for statistical analysis and hypothesis testing in Python."
   ]
  },
  {
   "cell_type": "markdown",
   "id": "0dc149b5",
   "metadata": {},
   "source": [
    "## Q17: Given a data frame namely data as shown below figure (fruit names are row labels). Find all rows with the label “Apple”. Extract all columns\n"
   ]
  },
  {
   "cell_type": "markdown",
   "id": "41fd9cc3",
   "metadata": {},
   "source": [
    "|Fruit_Name|Color|Count|Price|\n",
    "|----------|-----|-----|-----|\n",
    "|Apple|Red|3|120|\n",
    "|Apple|Green|9|110|\n",
    "|Pear|Red|25|125|\n",
    "|Pear|Green|26|150|\n",
    "|Lime|Green|99|70|"
   ]
  },
  {
   "cell_type": "code",
   "execution_count": 16,
   "id": "f5565712",
   "metadata": {},
   "outputs": [],
   "source": [
    "import pandas as pd"
   ]
  },
  {
   "cell_type": "code",
   "execution_count": 17,
   "id": "fbfcf244",
   "metadata": {},
   "outputs": [],
   "source": [
    "data = {\n",
    "'Fruit_Name' : ['Apple', 'Apple', 'Pear', 'Pear', 'Lime'],\n",
    "'Color' : ['Red', 'Green', 'Red', 'Green', 'Green'],\n",
    "'Count' : [3, 9, 25, 26, 99],\n",
    "'Price' : [120, 110, 125, 150, 70]\n",
    "}"
   ]
  },
  {
   "cell_type": "code",
   "execution_count": 18,
   "id": "90de13ac",
   "metadata": {},
   "outputs": [
    {
     "data": {
      "text/html": [
       "<div>\n",
       "<style scoped>\n",
       "    .dataframe tbody tr th:only-of-type {\n",
       "        vertical-align: middle;\n",
       "    }\n",
       "\n",
       "    .dataframe tbody tr th {\n",
       "        vertical-align: top;\n",
       "    }\n",
       "\n",
       "    .dataframe thead th {\n",
       "        text-align: right;\n",
       "    }\n",
       "</style>\n",
       "<table border=\"1\" class=\"dataframe\">\n",
       "  <thead>\n",
       "    <tr style=\"text-align: right;\">\n",
       "      <th></th>\n",
       "      <th>Fruit_Name</th>\n",
       "      <th>Color</th>\n",
       "      <th>Count</th>\n",
       "      <th>Price</th>\n",
       "    </tr>\n",
       "  </thead>\n",
       "  <tbody>\n",
       "    <tr>\n",
       "      <th>0</th>\n",
       "      <td>Apple</td>\n",
       "      <td>Red</td>\n",
       "      <td>3</td>\n",
       "      <td>120</td>\n",
       "    </tr>\n",
       "    <tr>\n",
       "      <th>1</th>\n",
       "      <td>Apple</td>\n",
       "      <td>Green</td>\n",
       "      <td>9</td>\n",
       "      <td>110</td>\n",
       "    </tr>\n",
       "    <tr>\n",
       "      <th>2</th>\n",
       "      <td>Pear</td>\n",
       "      <td>Red</td>\n",
       "      <td>25</td>\n",
       "      <td>125</td>\n",
       "    </tr>\n",
       "    <tr>\n",
       "      <th>3</th>\n",
       "      <td>Pear</td>\n",
       "      <td>Green</td>\n",
       "      <td>26</td>\n",
       "      <td>150</td>\n",
       "    </tr>\n",
       "    <tr>\n",
       "      <th>4</th>\n",
       "      <td>Lime</td>\n",
       "      <td>Green</td>\n",
       "      <td>99</td>\n",
       "      <td>70</td>\n",
       "    </tr>\n",
       "  </tbody>\n",
       "</table>\n",
       "</div>"
      ],
      "text/plain": [
       "  Fruit_Name  Color  Count  Price\n",
       "0      Apple    Red      3    120\n",
       "1      Apple  Green      9    110\n",
       "2       Pear    Red     25    125\n",
       "3       Pear  Green     26    150\n",
       "4       Lime  Green     99     70"
      ]
     },
     "execution_count": 18,
     "metadata": {},
     "output_type": "execute_result"
    }
   ],
   "source": [
    "df = pd.DataFrame(data)\n",
    "df"
   ]
  },
  {
   "cell_type": "code",
   "execution_count": 19,
   "id": "abab9adb",
   "metadata": {},
   "outputs": [
    {
     "data": {
      "text/html": [
       "<div>\n",
       "<style scoped>\n",
       "    .dataframe tbody tr th:only-of-type {\n",
       "        vertical-align: middle;\n",
       "    }\n",
       "\n",
       "    .dataframe tbody tr th {\n",
       "        vertical-align: top;\n",
       "    }\n",
       "\n",
       "    .dataframe thead th {\n",
       "        text-align: right;\n",
       "    }\n",
       "</style>\n",
       "<table border=\"1\" class=\"dataframe\">\n",
       "  <thead>\n",
       "    <tr style=\"text-align: right;\">\n",
       "      <th></th>\n",
       "      <th>Fruit_Name</th>\n",
       "      <th>Color</th>\n",
       "      <th>Count</th>\n",
       "      <th>Price</th>\n",
       "    </tr>\n",
       "  </thead>\n",
       "  <tbody>\n",
       "    <tr>\n",
       "      <th>0</th>\n",
       "      <td>Apple</td>\n",
       "      <td>Red</td>\n",
       "      <td>3</td>\n",
       "      <td>120</td>\n",
       "    </tr>\n",
       "    <tr>\n",
       "      <th>1</th>\n",
       "      <td>Apple</td>\n",
       "      <td>Green</td>\n",
       "      <td>9</td>\n",
       "      <td>110</td>\n",
       "    </tr>\n",
       "  </tbody>\n",
       "</table>\n",
       "</div>"
      ],
      "text/plain": [
       "  Fruit_Name  Color  Count  Price\n",
       "0      Apple    Red      3    120\n",
       "1      Apple  Green      9    110"
      ]
     },
     "execution_count": 19,
     "metadata": {},
     "output_type": "execute_result"
    }
   ],
   "source": [
    "df.loc[df['Fruit_Name'] == 'Apple']"
   ]
  },
  {
   "cell_type": "markdown",
   "id": "f82f5e2b",
   "metadata": {},
   "source": [
    "## Q18: List fruits with count more than 9."
   ]
  },
  {
   "cell_type": "code",
   "execution_count": 20,
   "id": "a8518287",
   "metadata": {},
   "outputs": [
    {
     "data": {
      "text/html": [
       "<div>\n",
       "<style scoped>\n",
       "    .dataframe tbody tr th:only-of-type {\n",
       "        vertical-align: middle;\n",
       "    }\n",
       "\n",
       "    .dataframe tbody tr th {\n",
       "        vertical-align: top;\n",
       "    }\n",
       "\n",
       "    .dataframe thead th {\n",
       "        text-align: right;\n",
       "    }\n",
       "</style>\n",
       "<table border=\"1\" class=\"dataframe\">\n",
       "  <thead>\n",
       "    <tr style=\"text-align: right;\">\n",
       "      <th></th>\n",
       "      <th>Fruit_Name</th>\n",
       "      <th>Color</th>\n",
       "      <th>Count</th>\n",
       "      <th>Price</th>\n",
       "    </tr>\n",
       "  </thead>\n",
       "  <tbody>\n",
       "    <tr>\n",
       "      <th>2</th>\n",
       "      <td>Pear</td>\n",
       "      <td>Red</td>\n",
       "      <td>25</td>\n",
       "      <td>125</td>\n",
       "    </tr>\n",
       "    <tr>\n",
       "      <th>3</th>\n",
       "      <td>Pear</td>\n",
       "      <td>Green</td>\n",
       "      <td>26</td>\n",
       "      <td>150</td>\n",
       "    </tr>\n",
       "    <tr>\n",
       "      <th>4</th>\n",
       "      <td>Lime</td>\n",
       "      <td>Green</td>\n",
       "      <td>99</td>\n",
       "      <td>70</td>\n",
       "    </tr>\n",
       "  </tbody>\n",
       "</table>\n",
       "</div>"
      ],
      "text/plain": [
       "  Fruit_Name  Color  Count  Price\n",
       "2       Pear    Red     25    125\n",
       "3       Pear  Green     26    150\n",
       "4       Lime  Green     99     70"
      ]
     },
     "execution_count": 20,
     "metadata": {},
     "output_type": "execute_result"
    }
   ],
   "source": [
    "df[df['Count'] > 9]"
   ]
  },
  {
   "cell_type": "markdown",
   "id": "e49b1567",
   "metadata": {},
   "source": [
    "## Q19: List only the columns Color and Price."
   ]
  },
  {
   "cell_type": "code",
   "execution_count": 21,
   "id": "297ec1c7",
   "metadata": {},
   "outputs": [
    {
     "data": {
      "text/html": [
       "<div>\n",
       "<style scoped>\n",
       "    .dataframe tbody tr th:only-of-type {\n",
       "        vertical-align: middle;\n",
       "    }\n",
       "\n",
       "    .dataframe tbody tr th {\n",
       "        vertical-align: top;\n",
       "    }\n",
       "\n",
       "    .dataframe thead th {\n",
       "        text-align: right;\n",
       "    }\n",
       "</style>\n",
       "<table border=\"1\" class=\"dataframe\">\n",
       "  <thead>\n",
       "    <tr style=\"text-align: right;\">\n",
       "      <th></th>\n",
       "      <th>Color</th>\n",
       "      <th>Price</th>\n",
       "    </tr>\n",
       "  </thead>\n",
       "  <tbody>\n",
       "    <tr>\n",
       "      <th>0</th>\n",
       "      <td>Red</td>\n",
       "      <td>120</td>\n",
       "    </tr>\n",
       "    <tr>\n",
       "      <th>1</th>\n",
       "      <td>Green</td>\n",
       "      <td>110</td>\n",
       "    </tr>\n",
       "    <tr>\n",
       "      <th>2</th>\n",
       "      <td>Red</td>\n",
       "      <td>125</td>\n",
       "    </tr>\n",
       "    <tr>\n",
       "      <th>3</th>\n",
       "      <td>Green</td>\n",
       "      <td>150</td>\n",
       "    </tr>\n",
       "    <tr>\n",
       "      <th>4</th>\n",
       "      <td>Green</td>\n",
       "      <td>70</td>\n",
       "    </tr>\n",
       "  </tbody>\n",
       "</table>\n",
       "</div>"
      ],
      "text/plain": [
       "   Color  Price\n",
       "0    Red    120\n",
       "1  Green    110\n",
       "2    Red    125\n",
       "3  Green    150\n",
       "4  Green     70"
      ]
     },
     "execution_count": 21,
     "metadata": {},
     "output_type": "execute_result"
    }
   ],
   "source": [
    "df.loc[:,['Color','Price']] "
   ]
  },
  {
   "cell_type": "markdown",
   "id": "5702842f",
   "metadata": {},
   "source": [
    "## Q20:\tList only rows 1, 3, 4. "
   ]
  },
  {
   "cell_type": "code",
   "execution_count": 22,
   "id": "75b2508c",
   "metadata": {},
   "outputs": [
    {
     "data": {
      "text/html": [
       "<div>\n",
       "<style scoped>\n",
       "    .dataframe tbody tr th:only-of-type {\n",
       "        vertical-align: middle;\n",
       "    }\n",
       "\n",
       "    .dataframe tbody tr th {\n",
       "        vertical-align: top;\n",
       "    }\n",
       "\n",
       "    .dataframe thead th {\n",
       "        text-align: right;\n",
       "    }\n",
       "</style>\n",
       "<table border=\"1\" class=\"dataframe\">\n",
       "  <thead>\n",
       "    <tr style=\"text-align: right;\">\n",
       "      <th></th>\n",
       "      <th>Fruit_Name</th>\n",
       "      <th>Color</th>\n",
       "      <th>Count</th>\n",
       "      <th>Price</th>\n",
       "    </tr>\n",
       "  </thead>\n",
       "  <tbody>\n",
       "    <tr>\n",
       "      <th>1</th>\n",
       "      <td>Apple</td>\n",
       "      <td>Green</td>\n",
       "      <td>9</td>\n",
       "      <td>110</td>\n",
       "    </tr>\n",
       "    <tr>\n",
       "      <th>3</th>\n",
       "      <td>Pear</td>\n",
       "      <td>Green</td>\n",
       "      <td>26</td>\n",
       "      <td>150</td>\n",
       "    </tr>\n",
       "    <tr>\n",
       "      <th>4</th>\n",
       "      <td>Lime</td>\n",
       "      <td>Green</td>\n",
       "      <td>99</td>\n",
       "      <td>70</td>\n",
       "    </tr>\n",
       "  </tbody>\n",
       "</table>\n",
       "</div>"
      ],
      "text/plain": [
       "  Fruit_Name  Color  Count  Price\n",
       "1      Apple  Green      9    110\n",
       "3       Pear  Green     26    150\n",
       "4       Lime  Green     99     70"
      ]
     },
     "execution_count": 22,
     "metadata": {},
     "output_type": "execute_result"
    }
   ],
   "source": [
    "df.iloc[[1,3,4]] "
   ]
  },
  {
   "cell_type": "markdown",
   "id": "68c595f8",
   "metadata": {},
   "source": [
    "## Q21:\tRohan has imported a dataset in which the distribution of the ‘Salary’ variable is as shown below. He wanted to use the ‘Salary’ variable for further investigation but he has overcome outliers in the variable. Identify the type of distribution and select the most suitable solution that Rohan should consider."
   ]
  },
  {
   "attachments": {
    "histogram.jpeg": {
     "image/jpeg": "[encoded data removed]"
    }
   },
   "cell_type": "markdown",
   "id": "3a1608d7",
   "metadata": {},
   "source": [
    "![histogram.jpeg](attachment:histogram.jpeg)"
   ]
  },
  {
   "cell_type": "code",
   "execution_count": 23,
   "id": "cee6aee4",
   "metadata": {},
   "outputs": [],
   "source": [
    "import pandas as pd                  # Data manipulation and analysis tool.\n",
    "import seaborn as sns                # Statistical data visualization based on Matplotlib.\n",
    "import matplotlib.pyplot as plt      # Plotting library for creating visualizations.\n",
    "import numpy as np                   # Numerical computing and array manipulation.\n",
    "import scipy.stats as scs            # Scientific computing and statistical functions."
   ]
  },
  {
   "cell_type": "code",
   "execution_count": 24,
   "id": "fefd01dd",
   "metadata": {},
   "outputs": [],
   "source": [
    "df = pd.read_csv(r\"datasets\\employees.csv\")"
   ]
  },
  {
   "cell_type": "code",
   "execution_count": 25,
   "id": "b9e461e8",
   "metadata": {},
   "outputs": [
    {
     "data": {
      "text/html": [
       "<div>\n",
       "<style scoped>\n",
       "    .dataframe tbody tr th:only-of-type {\n",
       "        vertical-align: middle;\n",
       "    }\n",
       "\n",
       "    .dataframe tbody tr th {\n",
       "        vertical-align: top;\n",
       "    }\n",
       "\n",
       "    .dataframe thead th {\n",
       "        text-align: right;\n",
       "    }\n",
       "</style>\n",
       "<table border=\"1\" class=\"dataframe\">\n",
       "  <thead>\n",
       "    <tr style=\"text-align: right;\">\n",
       "      <th></th>\n",
       "      <th>First Name</th>\n",
       "      <th>Gender</th>\n",
       "      <th>Start Date</th>\n",
       "      <th>Last Login Time</th>\n",
       "      <th>Salary</th>\n",
       "      <th>Bonus %</th>\n",
       "      <th>Senior Management</th>\n",
       "      <th>Team</th>\n",
       "    </tr>\n",
       "  </thead>\n",
       "  <tbody>\n",
       "    <tr>\n",
       "      <th>0</th>\n",
       "      <td>Douglas</td>\n",
       "      <td>Male</td>\n",
       "      <td>8/6/1993</td>\n",
       "      <td>12:42 PM</td>\n",
       "      <td>97308</td>\n",
       "      <td>6.945</td>\n",
       "      <td>True</td>\n",
       "      <td>Marketing</td>\n",
       "    </tr>\n",
       "    <tr>\n",
       "      <th>1</th>\n",
       "      <td>Thomas</td>\n",
       "      <td>Male</td>\n",
       "      <td>3/31/1996</td>\n",
       "      <td>6:53 AM</td>\n",
       "      <td>61933</td>\n",
       "      <td>4.170</td>\n",
       "      <td>True</td>\n",
       "      <td>NaN</td>\n",
       "    </tr>\n",
       "    <tr>\n",
       "      <th>2</th>\n",
       "      <td>Maria</td>\n",
       "      <td>Female</td>\n",
       "      <td>4/23/1993</td>\n",
       "      <td>11:17 AM</td>\n",
       "      <td>130590</td>\n",
       "      <td>11.858</td>\n",
       "      <td>False</td>\n",
       "      <td>Finance</td>\n",
       "    </tr>\n",
       "    <tr>\n",
       "      <th>3</th>\n",
       "      <td>Jerry</td>\n",
       "      <td>Male</td>\n",
       "      <td>3/4/2005</td>\n",
       "      <td>1:00 PM</td>\n",
       "      <td>138705</td>\n",
       "      <td>9.340</td>\n",
       "      <td>True</td>\n",
       "      <td>Finance</td>\n",
       "    </tr>\n",
       "    <tr>\n",
       "      <th>4</th>\n",
       "      <td>Larry</td>\n",
       "      <td>Male</td>\n",
       "      <td>1/24/1998</td>\n",
       "      <td>4:47 PM</td>\n",
       "      <td>101004</td>\n",
       "      <td>1.389</td>\n",
       "      <td>True</td>\n",
       "      <td>Client Services</td>\n",
       "    </tr>\n",
       "    <tr>\n",
       "      <th>...</th>\n",
       "      <td>...</td>\n",
       "      <td>...</td>\n",
       "      <td>...</td>\n",
       "      <td>...</td>\n",
       "      <td>...</td>\n",
       "      <td>...</td>\n",
       "      <td>...</td>\n",
       "      <td>...</td>\n",
       "    </tr>\n",
       "    <tr>\n",
       "      <th>995</th>\n",
       "      <td>Henry</td>\n",
       "      <td>NaN</td>\n",
       "      <td>11/23/2014</td>\n",
       "      <td>6:09 AM</td>\n",
       "      <td>132483</td>\n",
       "      <td>16.655</td>\n",
       "      <td>False</td>\n",
       "      <td>Distribution</td>\n",
       "    </tr>\n",
       "    <tr>\n",
       "      <th>996</th>\n",
       "      <td>Phillip</td>\n",
       "      <td>Male</td>\n",
       "      <td>1/31/1984</td>\n",
       "      <td>6:30 AM</td>\n",
       "      <td>42392</td>\n",
       "      <td>19.675</td>\n",
       "      <td>False</td>\n",
       "      <td>Finance</td>\n",
       "    </tr>\n",
       "    <tr>\n",
       "      <th>997</th>\n",
       "      <td>Russell</td>\n",
       "      <td>Male</td>\n",
       "      <td>5/20/2013</td>\n",
       "      <td>12:39 PM</td>\n",
       "      <td>96914</td>\n",
       "      <td>1.421</td>\n",
       "      <td>False</td>\n",
       "      <td>Product</td>\n",
       "    </tr>\n",
       "    <tr>\n",
       "      <th>998</th>\n",
       "      <td>Larry</td>\n",
       "      <td>Male</td>\n",
       "      <td>4/20/2013</td>\n",
       "      <td>4:45 PM</td>\n",
       "      <td>60500</td>\n",
       "      <td>11.985</td>\n",
       "      <td>False</td>\n",
       "      <td>Business Development</td>\n",
       "    </tr>\n",
       "    <tr>\n",
       "      <th>999</th>\n",
       "      <td>Albert</td>\n",
       "      <td>Male</td>\n",
       "      <td>5/15/2012</td>\n",
       "      <td>6:24 PM</td>\n",
       "      <td>129949</td>\n",
       "      <td>10.169</td>\n",
       "      <td>True</td>\n",
       "      <td>Sales</td>\n",
       "    </tr>\n",
       "  </tbody>\n",
       "</table>\n",
       "<p>1000 rows × 8 columns</p>\n",
       "</div>"
      ],
      "text/plain": [
       "    First Name  Gender  Start Date Last Login Time  Salary  Bonus %  \\\n",
       "0      Douglas    Male    8/6/1993        12:42 PM   97308    6.945   \n",
       "1       Thomas    Male   3/31/1996         6:53 AM   61933    4.170   \n",
       "2        Maria  Female   4/23/1993        11:17 AM  130590   11.858   \n",
       "3        Jerry    Male    3/4/2005         1:00 PM  138705    9.340   \n",
       "4        Larry    Male   1/24/1998         4:47 PM  101004    1.389   \n",
       "..         ...     ...         ...             ...     ...      ...   \n",
       "995      Henry     NaN  11/23/2014         6:09 AM  132483   16.655   \n",
       "996    Phillip    Male   1/31/1984         6:30 AM   42392   19.675   \n",
       "997    Russell    Male   5/20/2013        12:39 PM   96914    1.421   \n",
       "998      Larry    Male   4/20/2013         4:45 PM   60500   11.985   \n",
       "999     Albert    Male   5/15/2012         6:24 PM  129949   10.169   \n",
       "\n",
       "    Senior Management                  Team  \n",
       "0                True             Marketing  \n",
       "1                True                   NaN  \n",
       "2               False               Finance  \n",
       "3                True               Finance  \n",
       "4                True       Client Services  \n",
       "..                ...                   ...  \n",
       "995             False          Distribution  \n",
       "996             False               Finance  \n",
       "997             False               Product  \n",
       "998             False  Business Development  \n",
       "999              True                 Sales  \n",
       "\n",
       "[1000 rows x 8 columns]"
      ]
     },
     "execution_count": 25,
     "metadata": {},
     "output_type": "execute_result"
    }
   ],
   "source": [
    "df"
   ]
  },
  {
   "cell_type": "code",
   "execution_count": 26,
   "id": "b59d1884",
   "metadata": {},
   "outputs": [
    {
     "data": {
      "image/png": "[encoded data removed]",
      "text/plain": [
       "<Figure size 640x480 with 1 Axes>"
      ]
     },
     "metadata": {},
     "output_type": "display_data"
    }
   ],
   "source": [
    "# Visualize the distribution (Histogram)\n",
    "plt.hist(df['Salary'])\n",
    "plt.xlabel('Salary')\n",
    "plt.ylabel('Number of People')\n",
    "plt.title('Distribution of Salary')\n",
    "plt.show()"
   ]
  },
  {
   "cell_type": "code",
   "execution_count": 27,
   "id": "3474b495",
   "metadata": {},
   "outputs": [
    {
     "data": {
      "image/png": "[encoded data removed]",
      "text/plain": [
       "<Figure size 640x480 with 1 Axes>"
      ]
     },
     "metadata": {},
     "output_type": "display_data"
    }
   ],
   "source": [
    "# Taking the natural logarithm of each element in the generated data\n",
    "log_data = np.log(df['Salary'])\n",
    "\n",
    "# Creating a histogram of the log-transformed data with 50 bins\n",
    "plt.hist(log_data, bins=50, label='Log-Transformed Data')\n",
    "\n",
    "# Adding a legend to the plot\n",
    "plt.legend()\n",
    "\n",
    "# Displaying the histogram of the log-transformed data\n",
    "plt.show()"
   ]
  },
  {
   "cell_type": "markdown",
   "id": "cfab1988",
   "metadata": {},
   "source": [
    "### c) ‘Salary’ Distribution is non-normal; he needs to apply log transformation."
   ]
  },
  {
   "cell_type": "markdown",
   "id": "bbd1cd9b",
   "metadata": {},
   "source": [
    "## Q22:\tThere are two types of statistics – descriptive and inferential.  True sentence about descriptive statistics? "
   ]
  },
  {
   "cell_type": "markdown",
   "id": "64b513f4",
   "metadata": {},
   "source": [
    "### b) Descriptive statistics describe the data.\n",
    "\n",
    "### Descriptive statistics involve methods for summarizing and describing the features of a dataset, such as measures of central tendency (mean, median, mode), measures of dispersion (range, variance, standard deviation), and graphical representations (histograms, box plots, etc.). Descriptive statistics aim to provide a clear and concise summary of the data, helping to understand its key characteristics without making inferences or drawing conclusions beyond the observed data."
   ]
  },
  {
   "cell_type": "markdown",
   "id": "4f25d16b",
   "metadata": {},
   "source": [
    "## Q23: When interpreting a correlation coefficient, it is important to look at,"
   ]
  },
  {
   "cell_type": "markdown",
   "id": "6a8422d8",
   "metadata": {},
   "source": [
    "### a) The +/- sign of the correlation coefficient indicates the direction of the relationship between the variables. A positive sign (+) indicates a positive correlation, meaning that as one variable increases, the other tends to increase as well. A negative sign (-) indicates a negative correlation, meaning that as one variable increases, the other tends to decrease.\n",
    "\n",
    "### b) The strength of the correlation coefficient indicates the degree to which the variables are linearly related. A correlation coefficient close to +1 or -1 suggests a strong linear relationship, while a coefficient close to 0 suggests a weak linear relationship.\n",
    "\n",
    "### c) The relationship type of the variables, such as whether the relationship is linear or non-linear, should also be considered. While the correlation coefficient measures the linear relationship between variables, it may not capture non-linear relationships."
   ]
  },
  {
   "cell_type": "markdown",
   "id": "816824aa",
   "metadata": {},
   "source": [
    "## Q24: Select the most suitable code to obtain the following figure using the matplotlib library."
   ]
  },
  {
   "attachments": {
    "Object%20oriented%20Interface.JPG": {
     "image/jpeg": "[encoded data removed]"
    }
   },
   "cell_type": "markdown",
   "id": "67d64023",
   "metadata": {},
   "source": [
    "![Object%20oriented%20Interface.JPG](attachment:Object%20oriented%20Interface.JPG)"
   ]
  },
  {
   "cell_type": "markdown",
   "id": "5a186f47",
   "metadata": {},
   "source": [
    "### import matplotlib.pyplot as plt\n",
    "### fig,a = plt.subplots(2, 2)\n",
    "### fig.tight_layout (pad = 2)"
   ]
  },
  {
   "cell_type": "markdown",
   "id": "fafe49c6",
   "metadata": {},
   "source": [
    "## Q25:\tIn the line graph data is given below the number of trained male employees and the number of trained female employees working in different companies. What is the difference between the average number of trained male employees and that of the number of trained female employees in all companies together?"
   ]
  },
  {
   "attachments": {
    "line%20graph.JPG": {
     "image/jpeg": "[encoded data removed]"
    }
   },
   "cell_type": "markdown",
   "id": "6956bcbb",
   "metadata": {},
   "source": [
    "![line%20graph.JPG](attachment:line%20graph.JPG)"
   ]
  },
  {
   "attachments": {
    "25%20th%20mcq%20answer.JPG": {
     "image/jpeg": "[encoded data removed]"
    }
   },
   "cell_type": "markdown",
   "id": "b933d127",
   "metadata": {},
   "source": [
    "![25%20th%20mcq%20answer.JPG](attachment:25%20th%20mcq%20answer.JPG)"
   ]
  },
  {
   "cell_type": "markdown",
   "id": "83e2bcf6",
   "metadata": {},
   "source": [
    "## Q26: What is the technique is an analysis of the relationship between two variables to help provide the prediction mechanism?"
   ]
  },
  {
   "cell_type": "markdown",
   "id": "a7113d33",
   "metadata": {},
   "source": [
    "### c) Regression\n",
    "\n",
    "### Regression analysis is a statistical technique used to model the relationship between a dependent variable (or outcome) and one or more independent variables (or predictors). It helps provide a prediction mechanism by estimating the effect of the independent variables on the dependent variable. Regression analysis allows for the prediction of the dependent variable's value based on the values of the independent variables."
   ]
  },
  {
   "cell_type": "markdown",
   "id": "a907558a",
   "metadata": {},
   "source": [
    "## Q27:\tMary is interested in researching whether there is any association between smoking and having cancer. What is the most suitable method of evaluating scenario that you would suggest to Mary?"
   ]
  },
  {
   "cell_type": "markdown",
   "id": "88fdb97a",
   "metadata": {},
   "source": [
    "### d) Performing a Chi-Square Independence Test to determine the association between smoke and cancer variables.\n",
    "\n",
    "### The most suitable method for evaluating the association between two categorical variables like smoking and having cancer is to perform a Chi-Square Independence Test. This test evaluates whether there is a statistically significant association between the two variables. It assesses whether the observed frequencies of smoking and cancer cases in the sample differ significantly from what would be expected if there were no association between the variables.\n",
    "\n",
    "### a)\tObtaining a scatter plot of the two variables smoke and cancer variables.\n",
    "### b)\tPerforming the Pearson’s correlation coefficient for smoke and cancer variables\n",
    "### c)\tObtaining a visual graphic (heatmap) to determine the association between smoke and cancer variables.\n",
    "### are more suitable for analyzing the relationship between two continuous or numerical variables, rather than two categorical variables like smoking and cancer status."
   ]
  }
 ],
 "metadata": {
  "kernelspec": {
   "display_name": "Python 3 (ipykernel)",
   "language": "python",
   "name": "python3"
  },
  "language_info": {
   "codemirror_mode": {
    "name": "ipython",
    "version": 3
   },
   "file_extension": ".py",
   "mimetype": "text/x-python",
   "name": "python",
   "nbconvert_exporter": "python",
   "pygments_lexer": "ipython3",
   "version": "3.11.5"
  }
 },
 "nbformat": 4,
 "nbformat_minor": 5
}
